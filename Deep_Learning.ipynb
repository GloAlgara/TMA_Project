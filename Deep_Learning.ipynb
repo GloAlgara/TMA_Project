{
  "nbformat": 4,
  "nbformat_minor": 0,
  "metadata": {
    "colab": {
      "provenance": [],
      "authorship_tag": "ABX9TyNu7lYhkgcGxom3IndiwkYb"
    },
    "kernelspec": {
      "name": "python3",
      "display_name": "Python 3"
    },
    "language_info": {
      "name": "python"
    }
  },
  "cells": [
    {
      "cell_type": "code",
      "execution_count": 4,
      "metadata": {
        "colab": {
          "base_uri": "https://localhost:8080/"
        },
        "id": "-4RtWQS-Wgsl",
        "outputId": "67b76761-970e-416c-8984-5ccf212ac5ca"
      },
      "outputs": [
        {
          "output_type": "stream",
          "name": "stdout",
          "text": [
            "Epoch 1/10\n",
            "14675/14675 [==============================] - 54s 4ms/step - loss: 537460.9375 - accuracy: 0.2906 - val_loss: 1.9339 - val_accuracy: 0.3057\n",
            "Epoch 2/10\n",
            "14675/14675 [==============================] - 53s 4ms/step - loss: 1.9347 - accuracy: 0.3069 - val_loss: 1.9340 - val_accuracy: 0.3057\n",
            "Epoch 3/10\n",
            "14675/14675 [==============================] - 52s 4ms/step - loss: 1.9347 - accuracy: 0.3069 - val_loss: 1.9338 - val_accuracy: 0.3057\n",
            "Epoch 4/10\n",
            "14675/14675 [==============================] - 52s 4ms/step - loss: 1.9347 - accuracy: 0.3069 - val_loss: 1.9340 - val_accuracy: 0.3057\n",
            "Epoch 5/10\n",
            "14675/14675 [==============================] - 53s 4ms/step - loss: 1.9347 - accuracy: 0.3069 - val_loss: 1.9338 - val_accuracy: 0.3057\n",
            "Epoch 6/10\n",
            "14675/14675 [==============================] - 54s 4ms/step - loss: 1.9347 - accuracy: 0.3069 - val_loss: 1.9338 - val_accuracy: 0.3057\n",
            "Epoch 7/10\n",
            "14675/14675 [==============================] - 56s 4ms/step - loss: 1.9347 - accuracy: 0.3069 - val_loss: 1.9338 - val_accuracy: 0.3057\n",
            "Epoch 8/10\n",
            "14675/14675 [==============================] - 56s 4ms/step - loss: 1.9347 - accuracy: 0.3069 - val_loss: 1.9339 - val_accuracy: 0.3057\n",
            "Epoch 9/10\n",
            "14675/14675 [==============================] - 58s 4ms/step - loss: 1.9347 - accuracy: 0.3069 - val_loss: 1.9338 - val_accuracy: 0.3057\n",
            "Epoch 10/10\n",
            "14675/14675 [==============================] - 54s 4ms/step - loss: 1.9347 - accuracy: 0.3069 - val_loss: 1.9341 - val_accuracy: 0.3057\n",
            "6115/6115 [==============================] - 12s 2ms/step - loss: 1.9371 - accuracy: 0.3052\n",
            "Neural Network Accuracy: 30.52%\n",
            "6115/6115 [==============================] - 10s 2ms/step\n"
          ]
        }
      ],
      "source": [
        "import pandas as pd\n",
        "import numpy as np\n",
        "from sklearn.model_selection import train_test_split\n",
        "from sklearn.preprocessing import LabelEncoder\n",
        "from sklearn.metrics import accuracy_score, precision_score, recall_score, f1_score\n",
        "from sklearn.tree import ExtraTreeClassifier\n",
        "from sklearn.ensemble import BaggingClassifier\n",
        "from tensorflow import keras\n",
        "from keras.models import Sequential\n",
        "from keras.layers import Dense\n",
        "\n",
        "\n",
        "column_types = {'device_model': 'str'}\n",
        "df_access = pd.read_csv('access_point.csv', dtype=column_types)\n",
        "df_doorbell = pd.read_csv('doorbell.csv', dtype=column_types)\n",
        "df_laptop_7400 = pd.read_csv('laptop_7400.csv', dtype=column_types)\n",
        "df_laptop_e64 = pd.read_csv('laptop_e64.csv', dtype=column_types)\n",
        "df_lightbulb = pd.read_csv('lightbulb.csv', dtype=column_types)\n",
        "df_samsung_web = pd.read_csv('samsung_web.csv', dtype=column_types)\n",
        "df_smartphone_4 = pd.read_csv('smartphone_4.csv', dtype=column_types)\n",
        "df_smartphone_5 = pd.read_csv('smartphone_5.csv', dtype=column_types)\n",
        "df_socket = pd.read_csv('socket.csv', dtype=column_types)\n",
        "df_speaker = pd.read_csv('speaker.csv', dtype=column_types)\n",
        "df_streamer = pd.read_csv('streamer.csv', dtype=column_types)\n",
        "df_webcam = pd.read_csv('webcam.csv', dtype=column_types)\n",
        "\n",
        "df_2 = pd.concat([df_samsung_web, df_access, df_doorbell, df_laptop_7400, df_laptop_e64, df_lightbulb, df_smartphone_4, df_smartphone_5, df_socket, df_speaker, df_streamer, df_webcam], ignore_index=True)\n",
        "\n",
        "nocolumns = ['IPV4_SRC_ADDR', 'MAC', 'IPV4_DST_ADDR', 'IP', 'partition', 'category', 'type', 'date']\n",
        "\n",
        "df = df_2.drop(nocolumns, axis=1)\n",
        "\n",
        "X = df.drop(columns='device_model', axis=1)\n",
        "Y = df['device_model']\n",
        "\n",
        "label_encoder = LabelEncoder()\n",
        "Y_encoded = label_encoder.fit_transform(Y)\n",
        "\n",
        "X_train, X_test, y_train, y_test = train_test_split(X, Y_encoded, random_state=0)\n",
        "\n",
        "model = Sequential()\n",
        "model.add(Dense(128, input_dim=X_train.shape[1], activation='relu'))\n",
        "model.add(Dense(256, activation='relu'))\n",
        "model.add(Dense(128, activation='relu'))\n",
        "model.add(Dense(len(label_encoder.classes_), activation='softmax'))\n",
        "\n",
        "model.compile(loss='sparse_categorical_crossentropy', optimizer='adam', metrics=['accuracy'])\n",
        "\n",
        "model.fit(X_train, y_train, epochs=10, batch_size=32, validation_split=0.2)\n",
        "\n",
        "accuracy = model.evaluate(X_test, y_test)[1]\n",
        "print('Neural Network Accuracy: {:.2f}%'.format(accuracy * 100))\n",
        "\n",
        "predictions = model.predict(X_test)\n",
        "predictions_class = np.argmax(predictions, axis=1)\n"
      ]
    },
    {
      "cell_type": "code",
      "source": [
        "y_test_series = pd.Series(y_test, index=X_test.index)\n",
        "\n",
        "accuracy_nn = accuracy_score(Y.loc[y_test_series.index], predictions_labels)\n",
        "precision_nn = precision_score(Y.loc[y_test_series.index], predictions_labels, average='macro')\n",
        "recall_nn = recall_score(Y.loc[y_test_series.index], predictions_labels, average='macro')\n",
        "f1_nn = f1_score(Y.loc[y_test_series.index], predictions_labels, average='macro')\n",
        "\n",
        "print('Neural Network Accuracy: {:.2f}%'.format(accuracy_nn * 100))\n",
        "print('Neural Network Precision: {:.2f}'.format(precision_nn))\n",
        "print('Neural Network Recall: {:.2f}'.format(recall_nn))\n",
        "print('Neural Network F1 Score: {:.2f}'.format(f1_nn))"
      ],
      "metadata": {
        "colab": {
          "base_uri": "https://localhost:8080/"
        },
        "id": "XsnhM0e7eBTH",
        "outputId": "f693a01c-c945-4c8a-a545-5201bd288990"
      },
      "execution_count": 5,
      "outputs": [
        {
          "output_type": "stream",
          "name": "stderr",
          "text": [
            "/usr/local/lib/python3.10/dist-packages/sklearn/metrics/_classification.py:1344: UndefinedMetricWarning: Precision is ill-defined and being set to 0.0 in labels with no predicted samples. Use `zero_division` parameter to control this behavior.\n",
            "  _warn_prf(average, modifier, msg_start, len(result))\n"
          ]
        },
        {
          "output_type": "stream",
          "name": "stdout",
          "text": [
            "Neural Network Accuracy: 30.52%\n",
            "Neural Network Precision: 0.03\n",
            "Neural Network Recall: 0.08\n",
            "Neural Network F1 Score: 0.04\n"
          ]
        }
      ]
    }
  ]
}