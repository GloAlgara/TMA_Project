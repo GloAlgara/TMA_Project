{
  "nbformat": 4,
  "nbformat_minor": 0,
  "metadata": {
    "colab": {
      "provenance": []
    },
    "kernelspec": {
      "name": "python3",
      "display_name": "Python 3"
    },
    "language_info": {
      "name": "python"
    }
  },
  "cells": [
    {
      "cell_type": "code",
      "source": [
        "from sklearn.metrics import confusion_matrix\n",
        "import seaborn as sns\n",
        "import matplotlib.pyplot as plt\n",
        "import pandas as pd\n",
        "import numpy as np\n",
        "from sklearn.model_selection import train_test_split\n",
        "from sklearn.preprocessing import LabelEncoder\n",
        "from sklearn.metrics import accuracy_score, precision_score, recall_score, f1_score\n",
        "from tensorflow import keras\n",
        "from keras.models import Sequential\n",
        "from keras.layers import Dense\n",
        "from sklearn.preprocessing import StandardScaler\n",
        "from keras.models import Sequential\n",
        "from keras.layers import Dense, Dropout\n",
        "from keras.optimizers import Adam\n",
        "from keras.callbacks import EarlyStopping\n",
        "from sklearn.model_selection import train_test_split\n",
        "from sklearn.preprocessing import LabelEncoder\n",
        "import numpy as np"
      ],
      "metadata": {
        "id": "1GacjSF7h2CW"
      },
      "execution_count": 1,
      "outputs": []
    },
    {
      "cell_type": "markdown",
      "source": [
        "# Inside the network"
      ],
      "metadata": {
        "id": "QVrKiW8dmjpy"
      }
    },
    {
      "cell_type": "code",
      "execution_count": 22,
      "metadata": {
        "id": "-4RtWQS-Wgsl"
      },
      "outputs": [],
      "source": [
        "column_types = {'device_model': 'str'}\n",
        "df_access = pd.read_csv('access_point.csv', dtype=column_types)\n",
        "df_doorbell = pd.read_csv('doorbell.csv', dtype=column_types)\n",
        "df_laptop_7400 = pd.read_csv('laptop_7400.csv', dtype=column_types)\n",
        "df_laptop_e64 = pd.read_csv('laptop_e64.csv', dtype=column_types)\n",
        "df_lightbulb = pd.read_csv('lightbulb.csv', dtype=column_types)\n",
        "df_samsung_web = pd.read_csv('samsung_web.csv', dtype=column_types)\n",
        "df_smartphone_4 = pd.read_csv('smartphone_4.csv', dtype=column_types)\n",
        "df_smartphone_5 = pd.read_csv('smartphone_5.csv', dtype=column_types)\n",
        "df_socket = pd.read_csv('socket.csv', dtype=column_types)\n",
        "df_speaker = pd.read_csv('speaker.csv', dtype=column_types)\n",
        "df_streamer = pd.read_csv('streamer.csv', dtype=column_types)\n",
        "df_webcam = pd.read_csv('webcam.csv', dtype=column_types)\n",
        "\n",
        "df_2 = pd.concat([df_samsung_web, df_access, df_doorbell, df_laptop_7400, df_laptop_e64, df_lightbulb, df_smartphone_4, df_smartphone_5, df_socket, df_speaker, df_streamer, df_webcam], ignore_index=True)\n",
        "\n",
        "nocolumns = ['IPV4_SRC_ADDR', 'MAC', 'IPV4_DST_ADDR', 'IP', 'partition', 'device_model', 'type', 'date']\n",
        "\n",
        "df = df_2.drop(nocolumns, axis=1)\n",
        "\n",
        "X = df.drop(columns='category', axis=1)\n",
        "Y = df['category']"
      ]
    },
    {
      "cell_type": "code",
      "source": [
        "scaler = StandardScaler()\n",
        "X_scaled = scaler.fit_transform(X)\n",
        "\n",
        "label_encoder = LabelEncoder()\n",
        "Y_encoded = label_encoder.fit_transform(Y)\n",
        "\n",
        "X_train, X_test, y_train, y_test = train_test_split(X_scaled, Y_encoded, test_size=0.2, random_state=0)\n",
        "\n",
        "# Model architecture with dropout for regularization\n",
        "model = Sequential()\n",
        "model.add(Dense(128, input_dim=X_train.shape[1], activation='relu'))\n",
        "model.add(Dropout(0.5))\n",
        "model.add(Dense(256, activation='relu'))\n",
        "model.add(Dropout(0.5))\n",
        "model.add(Dense(256, activation='relu'))\n",
        "model.add(Dropout(0.5))\n",
        "model.add(Dense(128, activation='relu'))\n",
        "model.add(Dense(1, activation='sigmoid'))\n",
        "\n",
        "model.compile(loss='binary_crossentropy', optimizer=Adam(learning_rate=0.0001), metrics=['accuracy'])\n",
        "\n",
        "model.fit(X_train, y_train, epochs=50, batch_size=32, validation_split=0.2, callbacks=[EarlyStopping(patience=5)])\n",
        "\n",
        "accuracy = model.evaluate(X_test, y_test)[1]\n",
        "print('Neural Network Accuracy: {:.2f}%'.format(accuracy * 100))\n",
        "\n",
        "predictions = model.predict(X_test)\n",
        "predictions_class = (predictions > 0.5).astype(int)\n",
        "predictions_labels = label_encoder.inverse_transform(predictions_class)"
      ],
      "metadata": {
        "colab": {
          "base_uri": "https://localhost:8080/"
        },
        "id": "dcXpd0P3DpCp",
        "outputId": "2a426759-9ae5-4922-beda-50898bf1d4a2"
      },
      "execution_count": 23,
      "outputs": [
        {
          "output_type": "stream",
          "name": "stdout",
          "text": [
            "Epoch 1/50\n",
            "15653/15653 [==============================] - 100s 6ms/step - loss: 0.1680 - accuracy: 0.9333 - val_loss: 0.1051 - val_accuracy: 0.9571\n",
            "Epoch 2/50\n",
            "15653/15653 [==============================] - 100s 6ms/step - loss: 0.1108 - accuracy: 0.9549 - val_loss: 0.0932 - val_accuracy: 0.9601\n",
            "Epoch 3/50\n",
            "15653/15653 [==============================] - 101s 6ms/step - loss: 0.1009 - accuracy: 0.9578 - val_loss: 0.0863 - val_accuracy: 0.9633\n",
            "Epoch 4/50\n",
            "15653/15653 [==============================] - 99s 6ms/step - loss: 0.0931 - accuracy: 0.9607 - val_loss: 0.0798 - val_accuracy: 0.9674\n",
            "Epoch 5/50\n",
            "15653/15653 [==============================] - 97s 6ms/step - loss: 0.0890 - accuracy: 0.9639 - val_loss: 0.0750 - val_accuracy: 0.9717\n",
            "Epoch 6/50\n",
            "15653/15653 [==============================] - 99s 6ms/step - loss: 0.0838 - accuracy: 0.9671 - val_loss: 0.0704 - val_accuracy: 0.9741\n",
            "Epoch 7/50\n",
            "15653/15653 [==============================] - 100s 6ms/step - loss: 0.0819 - accuracy: 0.9688 - val_loss: 0.0678 - val_accuracy: 0.9744\n",
            "Epoch 8/50\n",
            "15653/15653 [==============================] - 95s 6ms/step - loss: 0.0778 - accuracy: 0.9702 - val_loss: 0.0671 - val_accuracy: 0.9751\n",
            "Epoch 9/50\n",
            "15653/15653 [==============================] - 99s 6ms/step - loss: 0.0788 - accuracy: 0.9713 - val_loss: 0.0644 - val_accuracy: 0.9767\n",
            "Epoch 10/50\n",
            "15653/15653 [==============================] - 98s 6ms/step - loss: 0.0747 - accuracy: 0.9723 - val_loss: 0.0651 - val_accuracy: 0.9750\n",
            "Epoch 11/50\n",
            "15653/15653 [==============================] - 99s 6ms/step - loss: 0.0805 - accuracy: 0.9728 - val_loss: 0.0620 - val_accuracy: 0.9770\n",
            "Epoch 12/50\n",
            "15653/15653 [==============================] - 101s 6ms/step - loss: 0.0715 - accuracy: 0.9736 - val_loss: 0.0616 - val_accuracy: 0.9779\n",
            "Epoch 13/50\n",
            "15653/15653 [==============================] - 100s 6ms/step - loss: 0.0722 - accuracy: 0.9739 - val_loss: 0.0621 - val_accuracy: 0.9772\n",
            "Epoch 14/50\n",
            "15653/15653 [==============================] - 100s 6ms/step - loss: 0.0732 - accuracy: 0.9740 - val_loss: 0.0606 - val_accuracy: 0.9780\n",
            "Epoch 15/50\n",
            "15653/15653 [==============================] - 100s 6ms/step - loss: 0.0766 - accuracy: 0.9742 - val_loss: 0.0607 - val_accuracy: 0.9780\n",
            "Epoch 16/50\n",
            "15653/15653 [==============================] - 101s 6ms/step - loss: 0.0718 - accuracy: 0.9743 - val_loss: 0.0604 - val_accuracy: 0.9780\n",
            "Epoch 17/50\n",
            "15653/15653 [==============================] - 100s 6ms/step - loss: 0.0708 - accuracy: 0.9743 - val_loss: 0.0606 - val_accuracy: 0.9783\n",
            "Epoch 18/50\n",
            "15653/15653 [==============================] - 102s 7ms/step - loss: 0.0723 - accuracy: 0.9747 - val_loss: 0.0606 - val_accuracy: 0.9781\n",
            "Epoch 19/50\n",
            "15653/15653 [==============================] - 99s 6ms/step - loss: 0.0701 - accuracy: 0.9749 - val_loss: 0.0617 - val_accuracy: 0.9784\n",
            "Epoch 20/50\n",
            "15653/15653 [==============================] - 102s 7ms/step - loss: 0.0724 - accuracy: 0.9750 - val_loss: 0.0600 - val_accuracy: 0.9783\n",
            "Epoch 21/50\n",
            "15653/15653 [==============================] - 99s 6ms/step - loss: 0.0719 - accuracy: 0.9751 - val_loss: 0.0601 - val_accuracy: 0.9783\n",
            "Epoch 22/50\n",
            "15653/15653 [==============================] - 98s 6ms/step - loss: 0.0770 - accuracy: 0.9751 - val_loss: 0.0595 - val_accuracy: 0.9784\n",
            "Epoch 23/50\n",
            "15653/15653 [==============================] - 96s 6ms/step - loss: 0.0693 - accuracy: 0.9751 - val_loss: 0.0593 - val_accuracy: 0.9785\n",
            "Epoch 24/50\n",
            "15653/15653 [==============================] - 98s 6ms/step - loss: 0.0729 - accuracy: 0.9756 - val_loss: 0.0595 - val_accuracy: 0.9784\n",
            "Epoch 25/50\n",
            "15653/15653 [==============================] - 98s 6ms/step - loss: 0.0686 - accuracy: 0.9754 - val_loss: 0.0598 - val_accuracy: 0.9785\n",
            "Epoch 26/50\n",
            "15653/15653 [==============================] - 98s 6ms/step - loss: 0.0688 - accuracy: 0.9754 - val_loss: 0.0598 - val_accuracy: 0.9787\n",
            "Epoch 27/50\n",
            "15653/15653 [==============================] - 98s 6ms/step - loss: 0.0702 - accuracy: 0.9755 - val_loss: 0.0592 - val_accuracy: 0.9787\n",
            "Epoch 28/50\n",
            "15653/15653 [==============================] - 101s 6ms/step - loss: 0.0677 - accuracy: 0.9756 - val_loss: 0.0595 - val_accuracy: 0.9786\n",
            "Epoch 29/50\n",
            "15653/15653 [==============================] - 98s 6ms/step - loss: 0.0681 - accuracy: 0.9756 - val_loss: 0.0593 - val_accuracy: 0.9787\n",
            "Epoch 30/50\n",
            "15653/15653 [==============================] - 101s 6ms/step - loss: 0.0721 - accuracy: 0.9756 - val_loss: 0.0590 - val_accuracy: 0.9790\n",
            "Epoch 31/50\n",
            "15653/15653 [==============================] - 99s 6ms/step - loss: 0.0698 - accuracy: 0.9756 - val_loss: 0.0587 - val_accuracy: 0.9789\n",
            "Epoch 32/50\n",
            "15653/15653 [==============================] - 100s 6ms/step - loss: 0.0678 - accuracy: 0.9755 - val_loss: 0.0589 - val_accuracy: 0.9787\n",
            "Epoch 33/50\n",
            "15653/15653 [==============================] - 101s 6ms/step - loss: 0.0699 - accuracy: 0.9755 - val_loss: 0.0590 - val_accuracy: 0.9787\n",
            "Epoch 34/50\n",
            "15653/15653 [==============================] - 97s 6ms/step - loss: 0.0781 - accuracy: 0.9758 - val_loss: 0.0587 - val_accuracy: 0.9788\n",
            "Epoch 35/50\n",
            "15653/15653 [==============================] - 96s 6ms/step - loss: 0.0712 - accuracy: 0.9758 - val_loss: 0.0581 - val_accuracy: 0.9789\n",
            "Epoch 36/50\n",
            "15653/15653 [==============================] - 97s 6ms/step - loss: 0.0688 - accuracy: 0.9758 - val_loss: 0.0596 - val_accuracy: 0.9786\n",
            "Epoch 37/50\n",
            "15653/15653 [==============================] - 97s 6ms/step - loss: 0.0727 - accuracy: 0.9758 - val_loss: 0.0587 - val_accuracy: 0.9789\n",
            "Epoch 38/50\n",
            "15653/15653 [==============================] - 97s 6ms/step - loss: 0.0695 - accuracy: 0.9758 - val_loss: 0.0584 - val_accuracy: 0.9790\n",
            "Epoch 39/50\n",
            "15653/15653 [==============================] - 98s 6ms/step - loss: 0.0672 - accuracy: 0.9760 - val_loss: 0.0585 - val_accuracy: 0.9788\n",
            "Epoch 40/50\n",
            "15653/15653 [==============================] - 101s 6ms/step - loss: 0.0696 - accuracy: 0.9758 - val_loss: 0.0586 - val_accuracy: 0.9788\n",
            "4892/4892 [==============================] - 13s 3ms/step - loss: 0.0589 - accuracy: 0.9790\n",
            "Neural Network Accuracy: 97.90%\n",
            "4892/4892 [==============================] - 12s 2ms/step\n"
          ]
        },
        {
          "output_type": "stream",
          "name": "stderr",
          "text": [
            "/usr/local/lib/python3.10/dist-packages/sklearn/preprocessing/_label.py:155: DataConversionWarning: A column-vector y was passed when a 1d array was expected. Please change the shape of y to (n_samples, ), for example using ravel().\n",
            "  y = column_or_1d(y, warn=True)\n"
          ]
        }
      ]
    },
    {
      "cell_type": "code",
      "source": [
        "predictions_df = pd.DataFrame(predictions_labels, index=y_test, columns=['Predicted_Label'])\n",
        "\n",
        "# Calculate metrics\n",
        "accuracy_nn = accuracy_score(y_test, predictions_class)\n",
        "precision_nn = precision_score(y_test, predictions_class, average='macro')\n",
        "recall_nn = recall_score(y_test, predictions_class, average='macro')\n",
        "f1_nn = f1_score(y_test, predictions_class, average='macro')\n",
        "\n",
        "print('Neural Network Accuracy: {:.2f}%'.format(accuracy_nn * 100))\n",
        "print('Neural Network Precision: {:.2f}%'.format(precision_nn*100))\n",
        "print('Neural Network Recall: {:.2f}%'.format(recall_nn*100))\n",
        "print('Neural Network F1 Score: {:.2f}%'.format(f1_nn*100))"
      ],
      "metadata": {
        "colab": {
          "base_uri": "https://localhost:8080/"
        },
        "id": "Fmrrcv2EP5jG",
        "outputId": "7013ff75-cdaf-4328-f8b2-1d7a75f65997"
      },
      "execution_count": 24,
      "outputs": [
        {
          "output_type": "stream",
          "name": "stdout",
          "text": [
            "Neural Network Accuracy: 97.90%\n",
            "Neural Network Precision: 96.15%\n",
            "Neural Network Recall: 92.46%\n",
            "Neural Network F1 Score: 94.20%\n"
          ]
        }
      ]
    },
    {
      "cell_type": "code",
      "source": [
        "conf_matrix = confusion_matrix(y_test, predictions_class)\n",
        "plt.figure(figsize=(10, 8))\n",
        "sns.heatmap(conf_matrix, annot=True, fmt='d', cmap='Blues', xticklabels=label_encoder.classes_, yticklabels=label_encoder.classes_)\n",
        "plt.title('Confusion Matrix')\n",
        "plt.xlabel('Predicted Label')\n",
        "plt.ylabel('True Label')\n",
        "plt.show()"
      ],
      "metadata": {
        "colab": {
          "base_uri": "https://localhost:8080/",
          "height": 718
        },
        "id": "Mj2zV_2zWnJB",
        "outputId": "8e940171-8f02-45c8-f810-929a1e43e26a"
      },
      "execution_count": 25,
      "outputs": [
        {
          "output_type": "display_data",
          "data": {
            "text/plain": [
              "<Figure size 1000x800 with 2 Axes>"
            ],
            "image/png": "[encoded data removed]"
          },
          "metadata": {}
        }
      ]
    },
    {
      "cell_type": "markdown",
      "source": [
        "# Outside the network"
      ],
      "metadata": {
        "id": "tTH_NbupmoPC"
      }
    },
    {
      "cell_type": "code",
      "source": [
        "column_types = {'device_model': 'str'}\n",
        "df_access = pd.read_csv('access_point.csv', dtype=column_types)\n",
        "df_doorbell = pd.read_csv('doorbell.csv', dtype=column_types)\n",
        "df_laptop_7400 = pd.read_csv('laptop_7400.csv', dtype=column_types)\n",
        "df_laptop_e64 = pd.read_csv('laptop_e64.csv', dtype=column_types)\n",
        "df_lightbulb = pd.read_csv('lightbulb.csv', dtype=column_types)\n",
        "df_samsung_web = pd.read_csv('samsung_web.csv', dtype=column_types)\n",
        "df_smartphone_4 = pd.read_csv('smartphone_4.csv', dtype=column_types)\n",
        "df_smartphone_5 = pd.read_csv('smartphone_5.csv', dtype=column_types)\n",
        "df_socket = pd.read_csv('socket.csv', dtype=column_types)\n",
        "df_speaker = pd.read_csv('speaker.csv', dtype=column_types)\n",
        "df_streamer = pd.read_csv('streamer.csv', dtype=column_types)\n",
        "df_webcam = pd.read_csv('webcam.csv', dtype=column_types)\n",
        "\n",
        "df_2 = pd.concat([df_samsung_web, df_access, df_doorbell, df_laptop_7400, df_laptop_e64, df_lightbulb, df_smartphone_4, df_smartphone_5, df_socket, df_speaker, df_streamer, df_webcam], ignore_index=True)\n",
        "\n",
        "nocolumns = ['IPV4_SRC_ADDR', 'MAC', 'IPV4_DST_ADDR', 'IP', 'partition', 'device_model', 'type', 'date', 'LAST_SWITCHED', 'FIRST_SWITCHED', 'SRC_TOS', 'SRC_AS', 'DST_AS']\n",
        "\n",
        "df = df_2.drop(nocolumns, axis=1)\n",
        "\n",
        "X = df.drop(columns='category', axis=1)\n",
        "Y = df['category']"
      ],
      "metadata": {
        "id": "DgAz3JC8mqWa"
      },
      "execution_count": 18,
      "outputs": []
    },
    {
      "cell_type": "code",
      "source": [
        "scaler = StandardScaler()\n",
        "X_scaled = scaler.fit_transform(X)\n",
        "\n",
        "label_encoder = LabelEncoder()\n",
        "Y_encoded = label_encoder.fit_transform(Y)\n",
        "\n",
        "X_train, X_test, y_train, y_test = train_test_split(X_scaled, Y_encoded, test_size=0.2, random_state=0)\n",
        "\n",
        "# Model architecture with dropout for regularization\n",
        "model = Sequential()\n",
        "model.add(Dense(128, input_dim=X_train.shape[1], activation='relu'))\n",
        "model.add(Dropout(0.5))\n",
        "model.add(Dense(256, activation='relu'))\n",
        "model.add(Dropout(0.5))\n",
        "model.add(Dense(256, activation='relu'))\n",
        "model.add(Dropout(0.5))\n",
        "model.add(Dense(128, activation='relu'))\n",
        "model.add(Dense(1, activation='sigmoid'))\n",
        "\n",
        "model.compile(loss='binary_crossentropy', optimizer=Adam(learning_rate=0.0001), metrics=['accuracy'])\n",
        "\n",
        "model.fit(X_train, y_train, epochs=50, batch_size=32, validation_split=0.2, callbacks=[EarlyStopping(patience=15)])\n",
        "\n",
        "accuracy = model.evaluate(X_test, y_test)[1]\n",
        "print('Neural Network Accuracy: {:.2f}%'.format(accuracy * 100))\n",
        "\n",
        "predictions = model.predict(X_test)\n",
        "predictions_class = (predictions > 0.5).astype(int)\n",
        "predictions_labels = label_encoder.inverse_transform(predictions_class)"
      ],
      "metadata": {
        "colab": {
          "base_uri": "https://localhost:8080/"
        },
        "id": "kiSKBZ2Zo5ny",
        "outputId": "65fca5fd-07db-4d9d-92f1-9a30d22f1f94"
      },
      "execution_count": 19,
      "outputs": [
        {
          "output_type": "stream",
          "name": "stdout",
          "text": [
            "Epoch 1/50\n",
            "15653/15653 [==============================] - 108s 7ms/step - loss: 0.1687 - accuracy: 0.9331 - val_loss: 0.1042 - val_accuracy: 0.9555\n",
            "Epoch 2/50\n",
            "15653/15653 [==============================] - 104s 7ms/step - loss: 0.1123 - accuracy: 0.9532 - val_loss: 0.0981 - val_accuracy: 0.9598\n",
            "Epoch 3/50\n",
            "15653/15653 [==============================] - 106s 7ms/step - loss: 0.1034 - accuracy: 0.9558 - val_loss: 0.0905 - val_accuracy: 0.9602\n",
            "Epoch 4/50\n",
            "15653/15653 [==============================] - 100s 6ms/step - loss: 0.0958 - accuracy: 0.9592 - val_loss: 0.0829 - val_accuracy: 0.9673\n",
            "Epoch 5/50\n",
            "15653/15653 [==============================] - 103s 7ms/step - loss: 0.0895 - accuracy: 0.9637 - val_loss: 0.0782 - val_accuracy: 0.9695\n",
            "Epoch 6/50\n",
            "15653/15653 [==============================] - 99s 6ms/step - loss: 0.0872 - accuracy: 0.9661 - val_loss: 0.0747 - val_accuracy: 0.9709\n",
            "Epoch 7/50\n",
            "15653/15653 [==============================] - 102s 6ms/step - loss: 0.0829 - accuracy: 0.9680 - val_loss: 0.0704 - val_accuracy: 0.9742\n",
            "Epoch 8/50\n",
            "15653/15653 [==============================] - 99s 6ms/step - loss: 0.0828 - accuracy: 0.9697 - val_loss: 0.0692 - val_accuracy: 0.9745\n",
            "Epoch 9/50\n",
            "15653/15653 [==============================] - 102s 6ms/step - loss: 0.0781 - accuracy: 0.9704 - val_loss: 0.0666 - val_accuracy: 0.9756\n",
            "Epoch 10/50\n",
            "15653/15653 [==============================] - 99s 6ms/step - loss: 0.0766 - accuracy: 0.9710 - val_loss: 0.0667 - val_accuracy: 0.9755\n",
            "Epoch 11/50\n",
            "15653/15653 [==============================] - 103s 7ms/step - loss: 0.0774 - accuracy: 0.9715 - val_loss: 0.0657 - val_accuracy: 0.9756\n",
            "Epoch 12/50\n",
            "15653/15653 [==============================] - 104s 7ms/step - loss: 0.0776 - accuracy: 0.9716 - val_loss: 0.0669 - val_accuracy: 0.9755\n",
            "Epoch 13/50\n",
            "15653/15653 [==============================] - 105s 7ms/step - loss: 0.0756 - accuracy: 0.9718 - val_loss: 0.0649 - val_accuracy: 0.9763\n",
            "Epoch 14/50\n",
            "15653/15653 [==============================] - 102s 7ms/step - loss: 0.0752 - accuracy: 0.9723 - val_loss: 0.0650 - val_accuracy: 0.9760\n",
            "Epoch 15/50\n",
            "15653/15653 [==============================] - 100s 6ms/step - loss: 0.0744 - accuracy: 0.9723 - val_loss: 0.0658 - val_accuracy: 0.9757\n",
            "Epoch 16/50\n",
            "15653/15653 [==============================] - 102s 7ms/step - loss: 0.0872 - accuracy: 0.9726 - val_loss: 0.0644 - val_accuracy: 0.9762\n",
            "Epoch 17/50\n",
            "15653/15653 [==============================] - 101s 6ms/step - loss: 0.0742 - accuracy: 0.9728 - val_loss: 0.0642 - val_accuracy: 0.9761\n",
            "Epoch 18/50\n",
            "15653/15653 [==============================] - 101s 6ms/step - loss: 0.0733 - accuracy: 0.9727 - val_loss: 0.0639 - val_accuracy: 0.9764\n",
            "Epoch 19/50\n",
            "15653/15653 [==============================] - 103s 7ms/step - loss: 0.0927 - accuracy: 0.9730 - val_loss: 0.0641 - val_accuracy: 0.9763\n",
            "Epoch 20/50\n",
            "15653/15653 [==============================] - 102s 7ms/step - loss: 0.0792 - accuracy: 0.9731 - val_loss: 0.0639 - val_accuracy: 0.9767\n",
            "Epoch 21/50\n",
            "15653/15653 [==============================] - 98s 6ms/step - loss: 0.0744 - accuracy: 0.9730 - val_loss: 0.0638 - val_accuracy: 0.9766\n",
            "Epoch 22/50\n",
            "15653/15653 [==============================] - 102s 7ms/step - loss: 0.0754 - accuracy: 0.9733 - val_loss: 0.0637 - val_accuracy: 0.9766\n",
            "Epoch 23/50\n",
            "15653/15653 [==============================] - 99s 6ms/step - loss: 0.0788 - accuracy: 0.9733 - val_loss: 0.0644 - val_accuracy: 0.9764\n",
            "Epoch 24/50\n",
            "15653/15653 [==============================] - 104s 7ms/step - loss: 0.0790 - accuracy: 0.9730 - val_loss: 0.0641 - val_accuracy: 0.9765\n",
            "Epoch 25/50\n",
            "15653/15653 [==============================] - 99s 6ms/step - loss: 0.0723 - accuracy: 0.9734 - val_loss: 0.0636 - val_accuracy: 0.9768\n",
            "Epoch 26/50\n",
            "15653/15653 [==============================] - 105s 7ms/step - loss: 0.0824 - accuracy: 0.9735 - val_loss: 0.0644 - val_accuracy: 0.9764\n",
            "Epoch 27/50\n",
            "15653/15653 [==============================] - 103s 7ms/step - loss: 0.0724 - accuracy: 0.9734 - val_loss: 0.0636 - val_accuracy: 0.9765\n",
            "Epoch 28/50\n",
            "15653/15653 [==============================] - 107s 7ms/step - loss: 0.0767 - accuracy: 0.9735 - val_loss: 0.0634 - val_accuracy: 0.9770\n",
            "Epoch 29/50\n",
            "15653/15653 [==============================] - 104s 7ms/step - loss: 0.0880 - accuracy: 0.9735 - val_loss: 0.0636 - val_accuracy: 0.9767\n",
            "Epoch 30/50\n",
            "15653/15653 [==============================] - 104s 7ms/step - loss: 0.0756 - accuracy: 0.9736 - val_loss: 0.0639 - val_accuracy: 0.9761\n",
            "Epoch 31/50\n",
            "15653/15653 [==============================] - 108s 7ms/step - loss: 0.0724 - accuracy: 0.9737 - val_loss: 0.0629 - val_accuracy: 0.9770\n",
            "Epoch 32/50\n",
            "15653/15653 [==============================] - 102s 7ms/step - loss: 0.0754 - accuracy: 0.9737 - val_loss: 0.0631 - val_accuracy: 0.9770\n",
            "Epoch 33/50\n",
            "15653/15653 [==============================] - 107s 7ms/step - loss: 0.0730 - accuracy: 0.9739 - val_loss: 0.0633 - val_accuracy: 0.9769\n",
            "Epoch 34/50\n",
            "15653/15653 [==============================] - 103s 7ms/step - loss: 0.0765 - accuracy: 0.9739 - val_loss: 0.0641 - val_accuracy: 0.9768\n",
            "Epoch 35/50\n",
            "15653/15653 [==============================] - 99s 6ms/step - loss: 0.0717 - accuracy: 0.9738 - val_loss: 0.0638 - val_accuracy: 0.9768\n",
            "Epoch 36/50\n",
            "15653/15653 [==============================] - 100s 6ms/step - loss: 0.0725 - accuracy: 0.9741 - val_loss: 0.0637 - val_accuracy: 0.9769\n",
            "Epoch 37/50\n",
            "15653/15653 [==============================] - 103s 7ms/step - loss: 0.0733 - accuracy: 0.9739 - val_loss: 0.0630 - val_accuracy: 0.9772\n",
            "Epoch 38/50\n",
            "15653/15653 [==============================] - 99s 6ms/step - loss: 0.0733 - accuracy: 0.9740 - val_loss: 0.0634 - val_accuracy: 0.9768\n",
            "Epoch 39/50\n",
            "15653/15653 [==============================] - 99s 6ms/step - loss: 0.0707 - accuracy: 0.9745 - val_loss: 0.0633 - val_accuracy: 0.9771\n",
            "Epoch 40/50\n",
            "15653/15653 [==============================] - 98s 6ms/step - loss: 0.0780 - accuracy: 0.9738 - val_loss: 0.0685 - val_accuracy: 0.9742\n",
            "Epoch 41/50\n",
            "15653/15653 [==============================] - 100s 6ms/step - loss: 0.0708 - accuracy: 0.9742 - val_loss: 0.0638 - val_accuracy: 0.9769\n",
            "Epoch 42/50\n",
            "15653/15653 [==============================] - 102s 7ms/step - loss: 0.0761 - accuracy: 0.9743 - val_loss: 0.0630 - val_accuracy: 0.9771\n",
            "Epoch 43/50\n",
            "15653/15653 [==============================] - 102s 7ms/step - loss: 0.0729 - accuracy: 0.9743 - val_loss: 0.0630 - val_accuracy: 0.9768\n",
            "Epoch 44/50\n",
            "15653/15653 [==============================] - 101s 6ms/step - loss: 0.0770 - accuracy: 0.9744 - val_loss: 0.0633 - val_accuracy: 0.9772\n",
            "Epoch 45/50\n",
            "15653/15653 [==============================] - 102s 6ms/step - loss: 0.0817 - accuracy: 0.9744 - val_loss: 0.0630 - val_accuracy: 0.9770\n",
            "Epoch 46/50\n",
            "15653/15653 [==============================] - 100s 6ms/step - loss: 0.0720 - accuracy: 0.9744 - val_loss: 0.0628 - val_accuracy: 0.9771\n",
            "Epoch 47/50\n",
            "15653/15653 [==============================] - 97s 6ms/step - loss: 0.0796 - accuracy: 0.9745 - val_loss: 0.0630 - val_accuracy: 0.9774\n",
            "Epoch 48/50\n",
            "15653/15653 [==============================] - 101s 6ms/step - loss: 0.0738 - accuracy: 0.9743 - val_loss: 0.0634 - val_accuracy: 0.9771\n",
            "Epoch 49/50\n",
            "15653/15653 [==============================] - 99s 6ms/step - loss: 0.0741 - accuracy: 0.9742 - val_loss: 0.0628 - val_accuracy: 0.9773\n",
            "Epoch 50/50\n",
            "15653/15653 [==============================] - 98s 6ms/step - loss: 0.0717 - accuracy: 0.9745 - val_loss: 0.0633 - val_accuracy: 0.9772\n",
            "4892/4892 [==============================] - 13s 3ms/step - loss: 0.0649 - accuracy: 0.9778\n",
            "Neural Network Accuracy: 97.78%\n",
            "4892/4892 [==============================] - 12s 2ms/step\n"
          ]
        },
        {
          "output_type": "stream",
          "name": "stderr",
          "text": [
            "/usr/local/lib/python3.10/dist-packages/sklearn/preprocessing/_label.py:155: DataConversionWarning: A column-vector y was passed when a 1d array was expected. Please change the shape of y to (n_samples, ), for example using ravel().\n",
            "  y = column_or_1d(y, warn=True)\n"
          ]
        }
      ]
    },
    {
      "cell_type": "code",
      "source": [
        "predictions_df = pd.DataFrame(predictions_labels, index=y_test, columns=['Predicted_Label'])\n",
        "\n",
        "# Calculate metrics\n",
        "accuracy_nn = accuracy_score(y_test, predictions_class)\n",
        "precision_nn = precision_score(y_test, predictions_class, average='macro')\n",
        "recall_nn = recall_score(y_test, predictions_class, average='macro')\n",
        "f1_nn = f1_score(y_test, predictions_class, average='macro')\n",
        "\n",
        "print('Neural Network Accuracy: {:.2f}%'.format(accuracy_nn * 100))\n",
        "print('Neural Network Precision: {:.2f}%'.format(precision_nn*100))\n",
        "print('Neural Network Recall: {:.2f}%'.format(recall_nn*100))\n",
        "print('Neural Network F1 Score: {:.2f}%'.format(f1_nn*100))"
      ],
      "metadata": {
        "colab": {
          "base_uri": "https://localhost:8080/"
        },
        "id": "POxAndmio6Vs",
        "outputId": "235a75e2-3d1e-4a68-ceeb-4fd0a5f66573"
      },
      "execution_count": 20,
      "outputs": [
        {
          "output_type": "stream",
          "name": "stdout",
          "text": [
            "Neural Network Accuracy: 97.78%\n",
            "Neural Network Precision: 95.92%\n",
            "Neural Network Recall: 91.98%\n",
            "Neural Network F1 Score: 93.84%\n"
          ]
        }
      ]
    },
    {
      "cell_type": "code",
      "source": [
        "conf_matrix = confusion_matrix(y_test, predictions_class)\n",
        "plt.figure(figsize=(10, 8))\n",
        "sns.heatmap(conf_matrix, annot=True, fmt='d', cmap='Blues', xticklabels=label_encoder.classes_, yticklabels=label_encoder.classes_)\n",
        "plt.title('Confusion Matrix')\n",
        "plt.xlabel('Predicted Label')\n",
        "plt.ylabel('True Label')\n",
        "plt.show()"
      ],
      "metadata": {
        "colab": {
          "base_uri": "https://localhost:8080/",
          "height": 718
        },
        "id": "ubRQKgjmo8mB",
        "outputId": "d899d74d-7271-47f8-dfad-8510db94eccf"
      },
      "execution_count": 21,
      "outputs": [
        {
          "output_type": "display_data",
          "data": {
            "text/plain": [
              "<Figure size 1000x800 with 2 Axes>"
            ],
            "image/png": "[encoded data removed]"
          },
          "metadata": {}
        }
      ]
    }
  ]
}