{
 "cells": [
  {
   "cell_type": "markdown",
   "metadata": {},
   "source": [
    "# IoT CLASSIFIER ALL COLUMNS"
   ]
  },
  {
   "cell_type": "markdown",
   "metadata": {},
   "source": [
    "## Imports and Read data"
   ]
  },
  {
   "cell_type": "code",
   "execution_count": 163,
   "metadata": {},
   "outputs": [],
   "source": [
    "from sklearn.datasets import load_iris\n",
    "from sklearn.model_selection import train_test_split\n",
    "from sklearn.ensemble import BaggingClassifier\n",
    "from sklearn.tree import ExtraTreeClassifier\n",
    "# demonstration of calculating metrics for a neural network model using sklearn\n",
    "from sklearn.datasets import make_circles\n",
    "from sklearn.metrics import accuracy_score\n",
    "from sklearn.metrics import precision_score\n",
    "from sklearn.metrics import recall_score\n",
    "from sklearn.metrics import f1_score\n",
    "from sklearn.metrics import cohen_kappa_score\n",
    "from sklearn.metrics import roc_auc_score\n",
    "from sklearn.metrics import confusion_matrix\n",
    "import pandas as pd\n",
    "import matplotlib.pyplot as plt\n",
    "from sklearn.metrics import confusion_matrix, ConfusionMatrixDisplay\n",
    "\n",
    "import random"
   ]
  },
  {
   "cell_type": "code",
   "execution_count": 164,
   "metadata": {},
   "outputs": [
    {
     "data": {
      "text/html": [
       "<div>\n",
       "<style scoped>\n",
       "    .dataframe tbody tr th:only-of-type {\n",
       "        vertical-align: middle;\n",
       "    }\n",
       "\n",
       "    .dataframe tbody tr th {\n",
       "        vertical-align: top;\n",
       "    }\n",
       "\n",
       "    .dataframe thead th {\n",
       "        text-align: right;\n",
       "    }\n",
       "</style>\n",
       "<table border=\"1\" class=\"dataframe\">\n",
       "  <thead>\n",
       "    <tr style=\"text-align: right;\">\n",
       "      <th></th>\n",
       "      <th>FIRST_SWITCHED</th>\n",
       "      <th>IN_BYTES</th>\n",
       "      <th>IN_PKTS</th>\n",
       "      <th>L4_DST_PORT</th>\n",
       "      <th>L4_SRC_PORT</th>\n",
       "      <th>LAST_SWITCHED</th>\n",
       "      <th>PROTOCOL</th>\n",
       "      <th>SRC_TOS</th>\n",
       "      <th>TCP_FLAGS</th>\n",
       "      <th>DURATION</th>\n",
       "      <th>SRC_AS</th>\n",
       "      <th>DST_AS</th>\n",
       "      <th>INPUT_SNMP</th>\n",
       "      <th>OUTPUT_SNMP</th>\n",
       "      <th>category</th>\n",
       "      <th>inter_arrival_time</th>\n",
       "    </tr>\n",
       "  </thead>\n",
       "  <tbody>\n",
       "    <tr>\n",
       "      <th>0</th>\n",
       "      <td>1.579047e+09</td>\n",
       "      <td>24.0</td>\n",
       "      <td>0.4</td>\n",
       "      <td>5222.0</td>\n",
       "      <td>3696.0</td>\n",
       "      <td>1.579043e+09</td>\n",
       "      <td>6.0</td>\n",
       "      <td>0.0</td>\n",
       "      <td>2.0</td>\n",
       "      <td>4195.0</td>\n",
       "      <td>0.0</td>\n",
       "      <td>0.0</td>\n",
       "      <td>6.0</td>\n",
       "      <td>1.0</td>\n",
       "      <td>IoT</td>\n",
       "      <td>1.579048e+09</td>\n",
       "    </tr>\n",
       "    <tr>\n",
       "      <th>1</th>\n",
       "      <td>1.579047e+09</td>\n",
       "      <td>7.6</td>\n",
       "      <td>0.1</td>\n",
       "      <td>123.0</td>\n",
       "      <td>4039.0</td>\n",
       "      <td>1.579043e+09</td>\n",
       "      <td>17.0</td>\n",
       "      <td>0.0</td>\n",
       "      <td>0.0</td>\n",
       "      <td>4216.0</td>\n",
       "      <td>0.0</td>\n",
       "      <td>0.0</td>\n",
       "      <td>6.0</td>\n",
       "      <td>1.0</td>\n",
       "      <td>IoT</td>\n",
       "      <td>2.100000e+01</td>\n",
       "    </tr>\n",
       "    <tr>\n",
       "      <th>2</th>\n",
       "      <td>1.579047e+09</td>\n",
       "      <td>12.0</td>\n",
       "      <td>0.2</td>\n",
       "      <td>5222.0</td>\n",
       "      <td>3661.0</td>\n",
       "      <td>1.579043e+09</td>\n",
       "      <td>6.0</td>\n",
       "      <td>0.0</td>\n",
       "      <td>2.0</td>\n",
       "      <td>4213.0</td>\n",
       "      <td>0.0</td>\n",
       "      <td>0.0</td>\n",
       "      <td>6.0</td>\n",
       "      <td>1.0</td>\n",
       "      <td>IoT</td>\n",
       "      <td>1.000000e+01</td>\n",
       "    </tr>\n",
       "    <tr>\n",
       "      <th>3</th>\n",
       "      <td>1.579047e+09</td>\n",
       "      <td>7.6</td>\n",
       "      <td>0.1</td>\n",
       "      <td>123.0</td>\n",
       "      <td>4040.0</td>\n",
       "      <td>1.579043e+09</td>\n",
       "      <td>17.0</td>\n",
       "      <td>0.0</td>\n",
       "      <td>0.0</td>\n",
       "      <td>4217.0</td>\n",
       "      <td>0.0</td>\n",
       "      <td>0.0</td>\n",
       "      <td>6.0</td>\n",
       "      <td>1.0</td>\n",
       "      <td>IoT</td>\n",
       "      <td>2.000000e+01</td>\n",
       "    </tr>\n",
       "    <tr>\n",
       "      <th>4</th>\n",
       "      <td>1.579047e+09</td>\n",
       "      <td>6.0</td>\n",
       "      <td>0.1</td>\n",
       "      <td>5222.0</td>\n",
       "      <td>3661.0</td>\n",
       "      <td>1.579043e+09</td>\n",
       "      <td>6.0</td>\n",
       "      <td>0.0</td>\n",
       "      <td>2.0</td>\n",
       "      <td>4216.0</td>\n",
       "      <td>0.0</td>\n",
       "      <td>0.0</td>\n",
       "      <td>6.0</td>\n",
       "      <td>1.0</td>\n",
       "      <td>IoT</td>\n",
       "      <td>1.000000e+00</td>\n",
       "    </tr>\n",
       "    <tr>\n",
       "      <th>...</th>\n",
       "      <td>...</td>\n",
       "      <td>...</td>\n",
       "      <td>...</td>\n",
       "      <td>...</td>\n",
       "      <td>...</td>\n",
       "      <td>...</td>\n",
       "      <td>...</td>\n",
       "      <td>...</td>\n",
       "      <td>...</td>\n",
       "      <td>...</td>\n",
       "      <td>...</td>\n",
       "      <td>...</td>\n",
       "      <td>...</td>\n",
       "      <td>...</td>\n",
       "      <td>...</td>\n",
       "      <td>...</td>\n",
       "    </tr>\n",
       "    <tr>\n",
       "      <th>782639</th>\n",
       "      <td>1.580644e+09</td>\n",
       "      <td>171.6</td>\n",
       "      <td>0.6</td>\n",
       "      <td>8800.0</td>\n",
       "      <td>47219.0</td>\n",
       "      <td>1.580639e+09</td>\n",
       "      <td>17.0</td>\n",
       "      <td>0.0</td>\n",
       "      <td>0.0</td>\n",
       "      <td>4234.0</td>\n",
       "      <td>0.0</td>\n",
       "      <td>0.0</td>\n",
       "      <td>6.0</td>\n",
       "      <td>1.0</td>\n",
       "      <td>IoT</td>\n",
       "      <td>9.000000e+00</td>\n",
       "    </tr>\n",
       "    <tr>\n",
       "      <th>782640</th>\n",
       "      <td>1.580644e+09</td>\n",
       "      <td>24.0</td>\n",
       "      <td>0.4</td>\n",
       "      <td>12367.0</td>\n",
       "      <td>35031.0</td>\n",
       "      <td>1.580639e+09</td>\n",
       "      <td>6.0</td>\n",
       "      <td>0.0</td>\n",
       "      <td>2.0</td>\n",
       "      <td>4230.0</td>\n",
       "      <td>0.0</td>\n",
       "      <td>0.0</td>\n",
       "      <td>6.0</td>\n",
       "      <td>1.0</td>\n",
       "      <td>IoT</td>\n",
       "      <td>1.100000e+01</td>\n",
       "    </tr>\n",
       "    <tr>\n",
       "      <th>782641</th>\n",
       "      <td>1.580644e+09</td>\n",
       "      <td>172.2</td>\n",
       "      <td>0.6</td>\n",
       "      <td>8800.0</td>\n",
       "      <td>55222.0</td>\n",
       "      <td>1.580639e+09</td>\n",
       "      <td>17.0</td>\n",
       "      <td>0.0</td>\n",
       "      <td>0.0</td>\n",
       "      <td>4235.0</td>\n",
       "      <td>0.0</td>\n",
       "      <td>0.0</td>\n",
       "      <td>6.0</td>\n",
       "      <td>1.0</td>\n",
       "      <td>IoT</td>\n",
       "      <td>1.000000e+00</td>\n",
       "    </tr>\n",
       "    <tr>\n",
       "      <th>782642</th>\n",
       "      <td>1.580644e+09</td>\n",
       "      <td>123.9</td>\n",
       "      <td>2.1</td>\n",
       "      <td>8800.0</td>\n",
       "      <td>19272.0</td>\n",
       "      <td>1.580639e+09</td>\n",
       "      <td>17.0</td>\n",
       "      <td>0.0</td>\n",
       "      <td>0.0</td>\n",
       "      <td>4191.0</td>\n",
       "      <td>0.0</td>\n",
       "      <td>0.0</td>\n",
       "      <td>6.0</td>\n",
       "      <td>1.0</td>\n",
       "      <td>IoT</td>\n",
       "      <td>8.000000e+00</td>\n",
       "    </tr>\n",
       "    <tr>\n",
       "      <th>782643</th>\n",
       "      <td>1.580644e+09</td>\n",
       "      <td>171.0</td>\n",
       "      <td>0.6</td>\n",
       "      <td>8800.0</td>\n",
       "      <td>50281.0</td>\n",
       "      <td>1.580639e+09</td>\n",
       "      <td>17.0</td>\n",
       "      <td>0.0</td>\n",
       "      <td>0.0</td>\n",
       "      <td>4234.0</td>\n",
       "      <td>0.0</td>\n",
       "      <td>0.0</td>\n",
       "      <td>6.0</td>\n",
       "      <td>1.0</td>\n",
       "      <td>IoT</td>\n",
       "      <td>4.000000e+00</td>\n",
       "    </tr>\n",
       "  </tbody>\n",
       "</table>\n",
       "<p>782644 rows × 16 columns</p>\n",
       "</div>"
      ],
      "text/plain": [
       "        FIRST_SWITCHED  IN_BYTES  IN_PKTS  L4_DST_PORT  L4_SRC_PORT  \\\n",
       "0         1.579047e+09      24.0      0.4       5222.0       3696.0   \n",
       "1         1.579047e+09       7.6      0.1        123.0       4039.0   \n",
       "2         1.579047e+09      12.0      0.2       5222.0       3661.0   \n",
       "3         1.579047e+09       7.6      0.1        123.0       4040.0   \n",
       "4         1.579047e+09       6.0      0.1       5222.0       3661.0   \n",
       "...                ...       ...      ...          ...          ...   \n",
       "782639    1.580644e+09     171.6      0.6       8800.0      47219.0   \n",
       "782640    1.580644e+09      24.0      0.4      12367.0      35031.0   \n",
       "782641    1.580644e+09     172.2      0.6       8800.0      55222.0   \n",
       "782642    1.580644e+09     123.9      2.1       8800.0      19272.0   \n",
       "782643    1.580644e+09     171.0      0.6       8800.0      50281.0   \n",
       "\n",
       "        LAST_SWITCHED  PROTOCOL  SRC_TOS  TCP_FLAGS  DURATION  SRC_AS  DST_AS  \\\n",
       "0        1.579043e+09       6.0      0.0        2.0    4195.0     0.0     0.0   \n",
       "1        1.579043e+09      17.0      0.0        0.0    4216.0     0.0     0.0   \n",
       "2        1.579043e+09       6.0      0.0        2.0    4213.0     0.0     0.0   \n",
       "3        1.579043e+09      17.0      0.0        0.0    4217.0     0.0     0.0   \n",
       "4        1.579043e+09       6.0      0.0        2.0    4216.0     0.0     0.0   \n",
       "...               ...       ...      ...        ...       ...     ...     ...   \n",
       "782639   1.580639e+09      17.0      0.0        0.0    4234.0     0.0     0.0   \n",
       "782640   1.580639e+09       6.0      0.0        2.0    4230.0     0.0     0.0   \n",
       "782641   1.580639e+09      17.0      0.0        0.0    4235.0     0.0     0.0   \n",
       "782642   1.580639e+09      17.0      0.0        0.0    4191.0     0.0     0.0   \n",
       "782643   1.580639e+09      17.0      0.0        0.0    4234.0     0.0     0.0   \n",
       "\n",
       "        INPUT_SNMP  OUTPUT_SNMP category  inter_arrival_time  \n",
       "0              6.0          1.0      IoT        1.579048e+09  \n",
       "1              6.0          1.0      IoT        2.100000e+01  \n",
       "2              6.0          1.0      IoT        1.000000e+01  \n",
       "3              6.0          1.0      IoT        2.000000e+01  \n",
       "4              6.0          1.0      IoT        1.000000e+00  \n",
       "...            ...          ...      ...                 ...  \n",
       "782639         6.0          1.0      IoT        9.000000e+00  \n",
       "782640         6.0          1.0      IoT        1.100000e+01  \n",
       "782641         6.0          1.0      IoT        1.000000e+00  \n",
       "782642         6.0          1.0      IoT        8.000000e+00  \n",
       "782643         6.0          1.0      IoT        4.000000e+00  \n",
       "\n",
       "[782644 rows x 16 columns]"
      ]
     },
     "execution_count": 164,
     "metadata": {},
     "output_type": "execute_result"
    }
   ],
   "source": [
    "column_types = {'category': 'str'}\n",
    "df_access = pd.read_csv('access_point.csv', dtype=column_types)\n",
    "df_doorbell = pd.read_csv('doorbell.csv', dtype=column_types)\n",
    "df_laptop_7400 = pd.read_csv('laptop_7400.csv', dtype=column_types)\n",
    "df_laptop_e64 = pd.read_csv('laptop_e64.csv', dtype=column_types)\n",
    "df_lightbulb = pd.read_csv('lightbulb.csv', dtype=column_types)\n",
    "df_samsung_web = pd.read_csv('samsung_web.csv', dtype=column_types)\n",
    "df_smartphone_4 = pd.read_csv('smartphone_4.csv', dtype=column_types)\n",
    "df_smartphone_5 = pd.read_csv('smartphone_5.csv', dtype=column_types)\n",
    "df_socket = pd.read_csv('socket.csv', dtype=column_types)\n",
    "df_speaker = pd.read_csv('speaker.csv', dtype=column_types)\n",
    "df_streamer = pd.read_csv('streamer.csv', dtype=column_types)\n",
    "df_webcam = pd.read_csv('webcam.csv', dtype=column_types)\n",
    "\n",
    "df_2 = pd.concat([df_samsung_web, df_access, df_doorbell, df_laptop_7400, df_laptop_e64, df_lightbulb, df_smartphone_4, df_smartphone_5, df_socket, df_speaker, df_streamer, df_webcam], ignore_index=True)\n",
    "\n",
    "nocolumns = ['IPV4_SRC_ADDR', 'MAC', 'IPV4_DST_ADDR', 'IP', 'partition', 'device_model', 'type', 'date']\n",
    "\n",
    "df = df_2.drop(nocolumns, axis=1)\n",
    "df['IN_BYTES'] = df['IN_BYTES'] * 0.1\n",
    "df['IN_PKTS'] = df['IN_PKTS'] * 0.1\n",
    "\n",
    "#df = df.sample(frac =.001) \n",
    "df"
   ]
  },
  {
   "cell_type": "code",
   "execution_count": 165,
   "metadata": {
    "scrolled": true
   },
   "outputs": [
    {
     "data": {
      "text/plain": [
       "FIRST_SWITCHED        0\n",
       "IN_BYTES              0\n",
       "IN_PKTS               0\n",
       "L4_DST_PORT           0\n",
       "L4_SRC_PORT           0\n",
       "LAST_SWITCHED         0\n",
       "PROTOCOL              0\n",
       "SRC_TOS               0\n",
       "TCP_FLAGS             0\n",
       "DURATION              0\n",
       "SRC_AS                0\n",
       "DST_AS                0\n",
       "INPUT_SNMP            0\n",
       "OUTPUT_SNMP           0\n",
       "category              0\n",
       "inter_arrival_time    0\n",
       "dtype: int64"
      ]
     },
     "execution_count": 165,
     "metadata": {},
     "output_type": "execute_result"
    }
   ],
   "source": [
    "df.isnull().sum()"
   ]
  },
  {
   "cell_type": "code",
   "execution_count": 166,
   "metadata": {
    "scrolled": true
   },
   "outputs": [
    {
     "data": {
      "text/plain": [
       "category\n",
       "IoT        698851\n",
       "Non-IoT     83793\n",
       "Name: count, dtype: int64"
      ]
     },
     "execution_count": 166,
     "metadata": {},
     "output_type": "execute_result"
    }
   ],
   "source": [
    "df['category'].value_counts()"
   ]
  },
  {
   "cell_type": "code",
   "execution_count": 167,
   "metadata": {},
   "outputs": [
    {
     "data": {
      "text/plain": [
       "(782644, 16)"
      ]
     },
     "execution_count": 167,
     "metadata": {},
     "output_type": "execute_result"
    }
   ],
   "source": [
    "df.shape"
   ]
  },
  {
   "cell_type": "code",
   "execution_count": 168,
   "metadata": {},
   "outputs": [
    {
     "data": {
      "text/plain": [
       "0         IoT\n",
       "1         IoT\n",
       "2         IoT\n",
       "3         IoT\n",
       "4         IoT\n",
       "         ... \n",
       "782639    IoT\n",
       "782640    IoT\n",
       "782641    IoT\n",
       "782642    IoT\n",
       "782643    IoT\n",
       "Name: category, Length: 782644, dtype: object"
      ]
     },
     "execution_count": 168,
     "metadata": {},
     "output_type": "execute_result"
    }
   ],
   "source": [
    "X = df.drop(columns='category', axis=1)\n",
    "Y = df['category']\n",
    "Y"
   ]
  },
  {
   "cell_type": "markdown",
   "metadata": {},
   "source": [
    "## Bagging Classifier"
   ]
  },
  {
   "cell_type": "code",
   "execution_count": 169,
   "metadata": {},
   "outputs": [
    {
     "data": {
      "text/plain": [
       "0.9931156438942865"
      ]
     },
     "execution_count": 169,
     "metadata": {},
     "output_type": "execute_result"
    }
   ],
   "source": [
    "X_train, X_test, y_train, y_test = train_test_split(X, Y, random_state=0)\n",
    "extra_tree = ExtraTreeClassifier(random_state=0)\n",
    "cls = BaggingClassifier(extra_tree, random_state=0).fit(X_train, y_train)\n",
    "predictions = cls.predict(X_test)\n",
    "cls.score(X_test, y_test)"
   ]
  },
  {
   "cell_type": "code",
   "execution_count": 170,
   "metadata": {},
   "outputs": [
    {
     "data": {
      "image/png": "[encoded data removed]",
      "text/plain": [
       "<Figure size 640x480 with 2 Axes>"
      ]
     },
     "metadata": {},
     "output_type": "display_data"
    }
   ],
   "source": [
    "conf_matrix_display = ConfusionMatrixDisplay.from_estimator(cls, X_test, y_test, display_labels=cls.classes_, xticks_rotation=\"vertical\",values_format='d')\n",
    "plt.show()"
   ]
  },
  {
   "cell_type": "code",
   "execution_count": 171,
   "metadata": {},
   "outputs": [
    {
     "name": "stdout",
     "output_type": "stream",
     "text": [
      "Accuracy: 0.993116\n",
      "Precision: 0.983032\n",
      "Recall: 0.980680\n",
      "F1 score: 0.981852\n"
     ]
    }
   ],
   "source": [
    "# accuracy: (tp + tn) / (p + n)\n",
    "accuracy = accuracy_score(y_test, predictions)\n",
    "print('Accuracy: %f' % accuracy)\n",
    "# precision tp / (tp + fp)\n",
    "\"\"\"\n",
    "precision_score(y_test, y_pred, average='micro') will return the total ratio of tp/(tp + fp)\n",
    "\"\"\"\n",
    "precision = precision_score(y_test, predictions, average='macro')\n",
    "print('Precision: %f' % precision)\n",
    "# recall: tp / (tp + fn)\n",
    "recall = recall_score(y_test, predictions, average='macro')\n",
    "print('Recall: %f' % recall)\n",
    "# f1: 2 tp / (2 tp + fp + fn)\n",
    "f1 = f1_score(y_test, predictions, average='macro')\n",
    "print('F1 score: %f' % f1)"
   ]
  },
  {
   "cell_type": "code",
   "execution_count": 172,
   "metadata": {},
   "outputs": [
    {
     "data": {
      "text/html": [
       "<div>\n",
       "<style scoped>\n",
       "    .dataframe tbody tr th:only-of-type {\n",
       "        vertical-align: middle;\n",
       "    }\n",
       "\n",
       "    .dataframe tbody tr th {\n",
       "        vertical-align: top;\n",
       "    }\n",
       "\n",
       "    .dataframe thead th {\n",
       "        text-align: right;\n",
       "    }\n",
       "</style>\n",
       "<table border=\"1\" class=\"dataframe\">\n",
       "  <thead>\n",
       "    <tr style=\"text-align: right;\">\n",
       "      <th></th>\n",
       "      <th>FIRST_SWITCHED</th>\n",
       "      <th>IN_BYTES</th>\n",
       "      <th>IN_PKTS</th>\n",
       "      <th>L4_DST_PORT</th>\n",
       "      <th>L4_SRC_PORT</th>\n",
       "      <th>LAST_SWITCHED</th>\n",
       "      <th>PROTOCOL</th>\n",
       "      <th>SRC_TOS</th>\n",
       "      <th>TCP_FLAGS</th>\n",
       "      <th>DURATION</th>\n",
       "      <th>SRC_AS</th>\n",
       "      <th>DST_AS</th>\n",
       "      <th>INPUT_SNMP</th>\n",
       "      <th>OUTPUT_SNMP</th>\n",
       "      <th>inter_arrival_time</th>\n",
       "    </tr>\n",
       "  </thead>\n",
       "  <tbody>\n",
       "    <tr>\n",
       "      <th>FIRST_SWITCHED</th>\n",
       "      <td>1.000000</td>\n",
       "      <td>-0.018707</td>\n",
       "      <td>0.002511</td>\n",
       "      <td>-0.074957</td>\n",
       "      <td>-0.395870</td>\n",
       "      <td>1.000000</td>\n",
       "      <td>0.005282</td>\n",
       "      <td>0.477262</td>\n",
       "      <td>0.220423</td>\n",
       "      <td>0.638930</td>\n",
       "      <td>NaN</td>\n",
       "      <td>NaN</td>\n",
       "      <td>NaN</td>\n",
       "      <td>NaN</td>\n",
       "      <td>-0.004517</td>\n",
       "    </tr>\n",
       "    <tr>\n",
       "      <th>IN_BYTES</th>\n",
       "      <td>-0.018707</td>\n",
       "      <td>1.000000</td>\n",
       "      <td>0.514711</td>\n",
       "      <td>-0.017001</td>\n",
       "      <td>0.047926</td>\n",
       "      <td>-0.018706</td>\n",
       "      <td>0.015677</td>\n",
       "      <td>-0.007794</td>\n",
       "      <td>0.030310</td>\n",
       "      <td>-0.055170</td>\n",
       "      <td>NaN</td>\n",
       "      <td>NaN</td>\n",
       "      <td>NaN</td>\n",
       "      <td>NaN</td>\n",
       "      <td>-0.000255</td>\n",
       "    </tr>\n",
       "    <tr>\n",
       "      <th>IN_PKTS</th>\n",
       "      <td>0.002511</td>\n",
       "      <td>0.514711</td>\n",
       "      <td>1.000000</td>\n",
       "      <td>-0.004672</td>\n",
       "      <td>0.014426</td>\n",
       "      <td>0.002512</td>\n",
       "      <td>-0.009154</td>\n",
       "      <td>0.021444</td>\n",
       "      <td>0.033361</td>\n",
       "      <td>-0.055754</td>\n",
       "      <td>NaN</td>\n",
       "      <td>NaN</td>\n",
       "      <td>NaN</td>\n",
       "      <td>NaN</td>\n",
       "      <td>-0.000158</td>\n",
       "    </tr>\n",
       "    <tr>\n",
       "      <th>L4_DST_PORT</th>\n",
       "      <td>-0.074957</td>\n",
       "      <td>-0.017001</td>\n",
       "      <td>-0.004672</td>\n",
       "      <td>1.000000</td>\n",
       "      <td>0.377690</td>\n",
       "      <td>-0.074956</td>\n",
       "      <td>-0.259756</td>\n",
       "      <td>-0.000449</td>\n",
       "      <td>-0.183824</td>\n",
       "      <td>-0.109048</td>\n",
       "      <td>NaN</td>\n",
       "      <td>NaN</td>\n",
       "      <td>NaN</td>\n",
       "      <td>NaN</td>\n",
       "      <td>-0.000362</td>\n",
       "    </tr>\n",
       "    <tr>\n",
       "      <th>L4_SRC_PORT</th>\n",
       "      <td>-0.395870</td>\n",
       "      <td>0.047926</td>\n",
       "      <td>0.014426</td>\n",
       "      <td>0.377690</td>\n",
       "      <td>1.000000</td>\n",
       "      <td>-0.395870</td>\n",
       "      <td>-0.167568</td>\n",
       "      <td>-0.324782</td>\n",
       "      <td>0.030408</td>\n",
       "      <td>-0.252296</td>\n",
       "      <td>NaN</td>\n",
       "      <td>NaN</td>\n",
       "      <td>NaN</td>\n",
       "      <td>NaN</td>\n",
       "      <td>0.000923</td>\n",
       "    </tr>\n",
       "    <tr>\n",
       "      <th>LAST_SWITCHED</th>\n",
       "      <td>1.000000</td>\n",
       "      <td>-0.018706</td>\n",
       "      <td>0.002512</td>\n",
       "      <td>-0.074956</td>\n",
       "      <td>-0.395870</td>\n",
       "      <td>1.000000</td>\n",
       "      <td>0.005283</td>\n",
       "      <td>0.477260</td>\n",
       "      <td>0.220421</td>\n",
       "      <td>0.638920</td>\n",
       "      <td>NaN</td>\n",
       "      <td>NaN</td>\n",
       "      <td>NaN</td>\n",
       "      <td>NaN</td>\n",
       "      <td>-0.004517</td>\n",
       "    </tr>\n",
       "    <tr>\n",
       "      <th>PROTOCOL</th>\n",
       "      <td>0.005282</td>\n",
       "      <td>0.015677</td>\n",
       "      <td>-0.009154</td>\n",
       "      <td>-0.259756</td>\n",
       "      <td>-0.167568</td>\n",
       "      <td>0.005283</td>\n",
       "      <td>1.000000</td>\n",
       "      <td>-0.249584</td>\n",
       "      <td>-0.577798</td>\n",
       "      <td>-0.035386</td>\n",
       "      <td>NaN</td>\n",
       "      <td>NaN</td>\n",
       "      <td>NaN</td>\n",
       "      <td>NaN</td>\n",
       "      <td>-0.000588</td>\n",
       "    </tr>\n",
       "    <tr>\n",
       "      <th>SRC_TOS</th>\n",
       "      <td>0.477262</td>\n",
       "      <td>-0.007794</td>\n",
       "      <td>0.021444</td>\n",
       "      <td>-0.000449</td>\n",
       "      <td>-0.324782</td>\n",
       "      <td>0.477260</td>\n",
       "      <td>-0.249584</td>\n",
       "      <td>1.000000</td>\n",
       "      <td>0.528026</td>\n",
       "      <td>0.399700</td>\n",
       "      <td>NaN</td>\n",
       "      <td>NaN</td>\n",
       "      <td>NaN</td>\n",
       "      <td>NaN</td>\n",
       "      <td>-0.001017</td>\n",
       "    </tr>\n",
       "    <tr>\n",
       "      <th>TCP_FLAGS</th>\n",
       "      <td>0.220423</td>\n",
       "      <td>0.030310</td>\n",
       "      <td>0.033361</td>\n",
       "      <td>-0.183824</td>\n",
       "      <td>0.030408</td>\n",
       "      <td>0.220421</td>\n",
       "      <td>-0.577798</td>\n",
       "      <td>0.528026</td>\n",
       "      <td>1.000000</td>\n",
       "      <td>0.291349</td>\n",
       "      <td>NaN</td>\n",
       "      <td>NaN</td>\n",
       "      <td>NaN</td>\n",
       "      <td>NaN</td>\n",
       "      <td>0.001194</td>\n",
       "    </tr>\n",
       "    <tr>\n",
       "      <th>DURATION</th>\n",
       "      <td>0.638930</td>\n",
       "      <td>-0.055170</td>\n",
       "      <td>-0.055754</td>\n",
       "      <td>-0.109048</td>\n",
       "      <td>-0.252296</td>\n",
       "      <td>0.638920</td>\n",
       "      <td>-0.035386</td>\n",
       "      <td>0.399700</td>\n",
       "      <td>0.291349</td>\n",
       "      <td>1.000000</td>\n",
       "      <td>NaN</td>\n",
       "      <td>NaN</td>\n",
       "      <td>NaN</td>\n",
       "      <td>NaN</td>\n",
       "      <td>-0.001611</td>\n",
       "    </tr>\n",
       "    <tr>\n",
       "      <th>SRC_AS</th>\n",
       "      <td>NaN</td>\n",
       "      <td>NaN</td>\n",
       "      <td>NaN</td>\n",
       "      <td>NaN</td>\n",
       "      <td>NaN</td>\n",
       "      <td>NaN</td>\n",
       "      <td>NaN</td>\n",
       "      <td>NaN</td>\n",
       "      <td>NaN</td>\n",
       "      <td>NaN</td>\n",
       "      <td>NaN</td>\n",
       "      <td>NaN</td>\n",
       "      <td>NaN</td>\n",
       "      <td>NaN</td>\n",
       "      <td>NaN</td>\n",
       "    </tr>\n",
       "    <tr>\n",
       "      <th>DST_AS</th>\n",
       "      <td>NaN</td>\n",
       "      <td>NaN</td>\n",
       "      <td>NaN</td>\n",
       "      <td>NaN</td>\n",
       "      <td>NaN</td>\n",
       "      <td>NaN</td>\n",
       "      <td>NaN</td>\n",
       "      <td>NaN</td>\n",
       "      <td>NaN</td>\n",
       "      <td>NaN</td>\n",
       "      <td>NaN</td>\n",
       "      <td>NaN</td>\n",
       "      <td>NaN</td>\n",
       "      <td>NaN</td>\n",
       "      <td>NaN</td>\n",
       "    </tr>\n",
       "    <tr>\n",
       "      <th>INPUT_SNMP</th>\n",
       "      <td>NaN</td>\n",
       "      <td>NaN</td>\n",
       "      <td>NaN</td>\n",
       "      <td>NaN</td>\n",
       "      <td>NaN</td>\n",
       "      <td>NaN</td>\n",
       "      <td>NaN</td>\n",
       "      <td>NaN</td>\n",
       "      <td>NaN</td>\n",
       "      <td>NaN</td>\n",
       "      <td>NaN</td>\n",
       "      <td>NaN</td>\n",
       "      <td>NaN</td>\n",
       "      <td>NaN</td>\n",
       "      <td>NaN</td>\n",
       "    </tr>\n",
       "    <tr>\n",
       "      <th>OUTPUT_SNMP</th>\n",
       "      <td>NaN</td>\n",
       "      <td>NaN</td>\n",
       "      <td>NaN</td>\n",
       "      <td>NaN</td>\n",
       "      <td>NaN</td>\n",
       "      <td>NaN</td>\n",
       "      <td>NaN</td>\n",
       "      <td>NaN</td>\n",
       "      <td>NaN</td>\n",
       "      <td>NaN</td>\n",
       "      <td>NaN</td>\n",
       "      <td>NaN</td>\n",
       "      <td>NaN</td>\n",
       "      <td>NaN</td>\n",
       "      <td>NaN</td>\n",
       "    </tr>\n",
       "    <tr>\n",
       "      <th>inter_arrival_time</th>\n",
       "      <td>-0.004517</td>\n",
       "      <td>-0.000255</td>\n",
       "      <td>-0.000158</td>\n",
       "      <td>-0.000362</td>\n",
       "      <td>0.000923</td>\n",
       "      <td>-0.004517</td>\n",
       "      <td>-0.000588</td>\n",
       "      <td>-0.001017</td>\n",
       "      <td>0.001194</td>\n",
       "      <td>-0.001611</td>\n",
       "      <td>NaN</td>\n",
       "      <td>NaN</td>\n",
       "      <td>NaN</td>\n",
       "      <td>NaN</td>\n",
       "      <td>1.000000</td>\n",
       "    </tr>\n",
       "  </tbody>\n",
       "</table>\n",
       "</div>"
      ],
      "text/plain": [
       "                    FIRST_SWITCHED  IN_BYTES   IN_PKTS  L4_DST_PORT  \\\n",
       "FIRST_SWITCHED            1.000000 -0.018707  0.002511    -0.074957   \n",
       "IN_BYTES                 -0.018707  1.000000  0.514711    -0.017001   \n",
       "IN_PKTS                   0.002511  0.514711  1.000000    -0.004672   \n",
       "L4_DST_PORT              -0.074957 -0.017001 -0.004672     1.000000   \n",
       "L4_SRC_PORT              -0.395870  0.047926  0.014426     0.377690   \n",
       "LAST_SWITCHED             1.000000 -0.018706  0.002512    -0.074956   \n",
       "PROTOCOL                  0.005282  0.015677 -0.009154    -0.259756   \n",
       "SRC_TOS                   0.477262 -0.007794  0.021444    -0.000449   \n",
       "TCP_FLAGS                 0.220423  0.030310  0.033361    -0.183824   \n",
       "DURATION                  0.638930 -0.055170 -0.055754    -0.109048   \n",
       "SRC_AS                         NaN       NaN       NaN          NaN   \n",
       "DST_AS                         NaN       NaN       NaN          NaN   \n",
       "INPUT_SNMP                     NaN       NaN       NaN          NaN   \n",
       "OUTPUT_SNMP                    NaN       NaN       NaN          NaN   \n",
       "inter_arrival_time       -0.004517 -0.000255 -0.000158    -0.000362   \n",
       "\n",
       "                    L4_SRC_PORT  LAST_SWITCHED  PROTOCOL   SRC_TOS  TCP_FLAGS  \\\n",
       "FIRST_SWITCHED        -0.395870       1.000000  0.005282  0.477262   0.220423   \n",
       "IN_BYTES               0.047926      -0.018706  0.015677 -0.007794   0.030310   \n",
       "IN_PKTS                0.014426       0.002512 -0.009154  0.021444   0.033361   \n",
       "L4_DST_PORT            0.377690      -0.074956 -0.259756 -0.000449  -0.183824   \n",
       "L4_SRC_PORT            1.000000      -0.395870 -0.167568 -0.324782   0.030408   \n",
       "LAST_SWITCHED         -0.395870       1.000000  0.005283  0.477260   0.220421   \n",
       "PROTOCOL              -0.167568       0.005283  1.000000 -0.249584  -0.577798   \n",
       "SRC_TOS               -0.324782       0.477260 -0.249584  1.000000   0.528026   \n",
       "TCP_FLAGS              0.030408       0.220421 -0.577798  0.528026   1.000000   \n",
       "DURATION              -0.252296       0.638920 -0.035386  0.399700   0.291349   \n",
       "SRC_AS                      NaN            NaN       NaN       NaN        NaN   \n",
       "DST_AS                      NaN            NaN       NaN       NaN        NaN   \n",
       "INPUT_SNMP                  NaN            NaN       NaN       NaN        NaN   \n",
       "OUTPUT_SNMP                 NaN            NaN       NaN       NaN        NaN   \n",
       "inter_arrival_time     0.000923      -0.004517 -0.000588 -0.001017   0.001194   \n",
       "\n",
       "                    DURATION  SRC_AS  DST_AS  INPUT_SNMP  OUTPUT_SNMP  \\\n",
       "FIRST_SWITCHED      0.638930     NaN     NaN         NaN          NaN   \n",
       "IN_BYTES           -0.055170     NaN     NaN         NaN          NaN   \n",
       "IN_PKTS            -0.055754     NaN     NaN         NaN          NaN   \n",
       "L4_DST_PORT        -0.109048     NaN     NaN         NaN          NaN   \n",
       "L4_SRC_PORT        -0.252296     NaN     NaN         NaN          NaN   \n",
       "LAST_SWITCHED       0.638920     NaN     NaN         NaN          NaN   \n",
       "PROTOCOL           -0.035386     NaN     NaN         NaN          NaN   \n",
       "SRC_TOS             0.399700     NaN     NaN         NaN          NaN   \n",
       "TCP_FLAGS           0.291349     NaN     NaN         NaN          NaN   \n",
       "DURATION            1.000000     NaN     NaN         NaN          NaN   \n",
       "SRC_AS                   NaN     NaN     NaN         NaN          NaN   \n",
       "DST_AS                   NaN     NaN     NaN         NaN          NaN   \n",
       "INPUT_SNMP               NaN     NaN     NaN         NaN          NaN   \n",
       "OUTPUT_SNMP              NaN     NaN     NaN         NaN          NaN   \n",
       "inter_arrival_time -0.001611     NaN     NaN         NaN          NaN   \n",
       "\n",
       "                    inter_arrival_time  \n",
       "FIRST_SWITCHED               -0.004517  \n",
       "IN_BYTES                     -0.000255  \n",
       "IN_PKTS                      -0.000158  \n",
       "L4_DST_PORT                  -0.000362  \n",
       "L4_SRC_PORT                   0.000923  \n",
       "LAST_SWITCHED                -0.004517  \n",
       "PROTOCOL                     -0.000588  \n",
       "SRC_TOS                      -0.001017  \n",
       "TCP_FLAGS                     0.001194  \n",
       "DURATION                     -0.001611  \n",
       "SRC_AS                             NaN  \n",
       "DST_AS                             NaN  \n",
       "INPUT_SNMP                         NaN  \n",
       "OUTPUT_SNMP                        NaN  \n",
       "inter_arrival_time            1.000000  "
      ]
     },
     "execution_count": 172,
     "metadata": {},
     "output_type": "execute_result"
    }
   ],
   "source": [
    "X_train.corr()"
   ]
  },
  {
   "cell_type": "code",
   "execution_count": 173,
   "metadata": {},
   "outputs": [
    {
     "name": "stdout",
     "output_type": "stream",
     "text": [
      "Requirement already satisfied: seaborn in c:\\users\\sazupc\\anaconda3\\lib\\site-packages (0.12.2)\n",
      "Requirement already satisfied: numpy!=1.24.0,>=1.17 in c:\\users\\sazupc\\anaconda3\\lib\\site-packages (from seaborn) (1.24.3)\n",
      "Requirement already satisfied: pandas>=0.25 in c:\\users\\sazupc\\anaconda3\\lib\\site-packages (from seaborn) (2.0.3)\n",
      "Requirement already satisfied: matplotlib!=3.6.1,>=3.1 in c:\\users\\sazupc\\anaconda3\\lib\\site-packages (from seaborn) (3.7.2)\n",
      "Requirement already satisfied: contourpy>=1.0.1 in c:\\users\\sazupc\\anaconda3\\lib\\site-packages (from matplotlib!=3.6.1,>=3.1->seaborn) (1.0.5)\n",
      "Requirement already satisfied: cycler>=0.10 in c:\\users\\sazupc\\anaconda3\\lib\\site-packages (from matplotlib!=3.6.1,>=3.1->seaborn) (0.11.0)\n",
      "Requirement already satisfied: fonttools>=4.22.0 in c:\\users\\sazupc\\anaconda3\\lib\\site-packages (from matplotlib!=3.6.1,>=3.1->seaborn) (4.25.0)\n",
      "Requirement already satisfied: kiwisolver>=1.0.1 in c:\\users\\sazupc\\anaconda3\\lib\\site-packages (from matplotlib!=3.6.1,>=3.1->seaborn) (1.4.4)\n",
      "Requirement already satisfied: packaging>=20.0 in c:\\users\\sazupc\\anaconda3\\lib\\site-packages (from matplotlib!=3.6.1,>=3.1->seaborn) (23.1)\n",
      "Requirement already satisfied: pillow>=6.2.0 in c:\\users\\sazupc\\anaconda3\\lib\\site-packages (from matplotlib!=3.6.1,>=3.1->seaborn) (9.4.0)\n",
      "Requirement already satisfied: pyparsing<3.1,>=2.3.1 in c:\\users\\sazupc\\anaconda3\\lib\\site-packages (from matplotlib!=3.6.1,>=3.1->seaborn) (3.0.9)\n",
      "Requirement already satisfied: python-dateutil>=2.7 in c:\\users\\sazupc\\anaconda3\\lib\\site-packages (from matplotlib!=3.6.1,>=3.1->seaborn) (2.8.2)\n",
      "Requirement already satisfied: pytz>=2020.1 in c:\\users\\sazupc\\anaconda3\\lib\\site-packages (from pandas>=0.25->seaborn) (2023.3.post1)\n",
      "Requirement already satisfied: tzdata>=2022.1 in c:\\users\\sazupc\\anaconda3\\lib\\site-packages (from pandas>=0.25->seaborn) (2023.3)\n",
      "Requirement already satisfied: six>=1.5 in c:\\users\\sazupc\\anaconda3\\lib\\site-packages (from python-dateutil>=2.7->matplotlib!=3.6.1,>=3.1->seaborn) (1.16.0)\n",
      "Note: you may need to restart the kernel to use updated packages.\n"
     ]
    }
   ],
   "source": [
    "%pip install seaborn "
   ]
  },
  {
   "cell_type": "code",
   "execution_count": 174,
   "metadata": {},
   "outputs": [
    {
     "data": {
      "text/plain": [
       "<Axes: >"
      ]
     },
     "execution_count": 174,
     "metadata": {},
     "output_type": "execute_result"
    },
    {
     "data": {
      "image/png": "[encoded data removed]",
      "text/plain": [
       "<Figure size 1100x1100 with 2 Axes>"
      ]
     },
     "metadata": {},
     "output_type": "display_data"
    }
   ],
   "source": [
    "import seaborn as sns\n",
    "#Using Pearson Correlation\n",
    "corrmat = X_train.corr()\n",
    "fig, ax = plt.subplots()\n",
    "fig.set_size_inches(11,11)\n",
    "sns.heatmap(corrmat)"
   ]
  },
  {
   "cell_type": "code",
   "execution_count": 175,
   "metadata": {},
   "outputs": [],
   "source": [
    "# with the following function we can select highly correlated features\n",
    "# it will remove the first feature that is correlated with anything other feature\n",
    "\n",
    "def correlation(dataset, threshold):\n",
    "    col_corr = set()  # Set of all the names of correlated columns\n",
    "    corr_matrix = dataset.corr()\n",
    "    for i in range(len(corr_matrix.columns)):\n",
    "        for j in range(i):\n",
    "            if abs(corr_matrix.iloc[i, j]) > threshold: # we are interested in absolute coeff value\n",
    "                colname = corr_matrix.columns[i]  # getting the name of column\n",
    "                col_corr.add(colname)\n",
    "    return col_corr"
   ]
  },
  {
   "cell_type": "code",
   "execution_count": 176,
   "metadata": {},
   "outputs": [
    {
     "data": {
      "text/plain": [
       "{'LAST_SWITCHED'}"
      ]
     },
     "execution_count": 176,
     "metadata": {},
     "output_type": "execute_result"
    }
   ],
   "source": [
    "corr_features = correlation(X_train, 0.80)\n",
    "len(set(corr_features))\n",
    "corr_features"
   ]
  },
  {
   "cell_type": "code",
   "execution_count": 177,
   "metadata": {},
   "outputs": [],
   "source": [
    "X_train_fil = X_train.drop(corr_features,axis=1)\n",
    "X_test_fil = X_test.drop(corr_features,axis=1)"
   ]
  },
  {
   "cell_type": "code",
   "execution_count": 178,
   "metadata": {},
   "outputs": [
    {
     "data": {
      "text/plain": [
       "0.9939282739023106"
      ]
     },
     "execution_count": 178,
     "metadata": {},
     "output_type": "execute_result"
    }
   ],
   "source": [
    "extra_tree = ExtraTreeClassifier(random_state=0)\n",
    "cls = BaggingClassifier(extra_tree, random_state=0).fit(X_train_fil, y_train)\n",
    "predictions = cls.predict(X_test_fil)\n",
    "cls.score(X_test_fil, y_test)"
   ]
  },
  {
   "cell_type": "markdown",
   "metadata": {},
   "source": [
    "## Random Forest"
   ]
  },
  {
   "cell_type": "code",
   "execution_count": 179,
   "metadata": {},
   "outputs": [
    {
     "data": {
      "text/plain": [
       "0.9961975048681138"
      ]
     },
     "execution_count": 179,
     "metadata": {},
     "output_type": "execute_result"
    }
   ],
   "source": [
    "from sklearn.ensemble import RandomForestClassifier\n",
    "\n",
    "rfc = RandomForestClassifier(random_state=0)\n",
    "rfc.fit(X_train_fil, y_train)\n",
    "predictions = rfc.predict(X_test_fil)\n",
    "rfc.score(X_test_fil, y_test)"
   ]
  },
  {
   "cell_type": "code",
   "execution_count": 180,
   "metadata": {},
   "outputs": [
    {
     "name": "stdout",
     "output_type": "stream",
     "text": [
      "L4_DST_PORT  0.224 +/- 0.001\n",
      "L4_SRC_PORT  0.104 +/- 0.000\n",
      "IN_BYTES  0.081 +/- 0.000\n",
      "SRC_TOS   0.075 +/- 0.000\n",
      "IN_PKTS   0.054 +/- 0.000\n",
      "FIRST_SWITCHED  0.026 +/- 0.000\n",
      "OUTPUT_SNMP  0.015 +/- 0.000\n",
      "TCP_FLAGS  0.002 +/- 0.000\n",
      "LAST_SWITCHED  0.001 +/- 0.000\n",
      "PROTOCOL  0.000 +/- 0.000\n"
     ]
    }
   ],
   "source": [
    "from sklearn.inspection import permutation_importance\n",
    "\n",
    "r = permutation_importance(rfc, X_test_fil, y_test,n_repeats=30,random_state=0)\n",
    "for i in r.importances_mean.argsort()[::-1]:\n",
    "    if r.importances_mean[i] - 2 * r.importances_std[i] > 0:\n",
    "        print(f\"{df.columns[i]:<8} \"\n",
    "              f\" {r.importances_mean[i]:.3f}\"\n",
    "              f\" +/- {r.importances_std[i]:.3f}\")"
   ]
  },
  {
   "cell_type": "code",
   "execution_count": 181,
   "metadata": {},
   "outputs": [
    {
     "data": {
      "image/png": "[encoded data removed]",
      "text/plain": [
       "<Figure size 640x480 with 2 Axes>"
      ]
     },
     "metadata": {},
     "output_type": "display_data"
    }
   ],
   "source": [
    "conf_matrix_display = ConfusionMatrixDisplay.from_estimator(rfc, X_test_fil, y_test, display_labels=rfc.classes_, xticks_rotation=\"vertical\",values_format='d')\n",
    "plt.show()"
   ]
  },
  {
   "cell_type": "code",
   "execution_count": 182,
   "metadata": {},
   "outputs": [
    {
     "name": "stdout",
     "output_type": "stream",
     "text": [
      "Accuracy: 0.996198\n",
      "Precision: 0.988790\n",
      "Recall: 0.991270\n",
      "F1 score: 0.990026\n"
     ]
    }
   ],
   "source": [
    "# accuracy: (tp + tn) / (p + n)\n",
    "accuracy = accuracy_score(y_test, predictions)\n",
    "print('Accuracy: %f' % accuracy)\n",
    "# precision tp / (tp + fp)\n",
    "\"\"\"\n",
    "precision_score(y_test, y_pred, average='micro') will return the total ratio of tp/(tp + fp)\n",
    "\"\"\"\n",
    "precision = precision_score(y_test, predictions, average='macro')\n",
    "print('Precision: %f' % precision)\n",
    "# recall: tp / (tp + fn)\n",
    "recall = recall_score(y_test, predictions, average='macro')\n",
    "print('Recall: %f' % recall)\n",
    "# f1: 2 tp / (2 tp + fp + fn)\n",
    "f1 = f1_score(y_test, predictions, average='macro')\n",
    "print('F1 score: %f' % f1)"
   ]
  },
  {
   "cell_type": "markdown",
   "metadata": {},
   "source": [
    "#  DEVICE CLASSIFIER INSIDE THE NETWORK"
   ]
  },
  {
   "cell_type": "code",
   "execution_count": 183,
   "metadata": {},
   "outputs": [
    {
     "data": {
      "text/html": [
       "<div>\n",
       "<style scoped>\n",
       "    .dataframe tbody tr th:only-of-type {\n",
       "        vertical-align: middle;\n",
       "    }\n",
       "\n",
       "    .dataframe tbody tr th {\n",
       "        vertical-align: top;\n",
       "    }\n",
       "\n",
       "    .dataframe thead th {\n",
       "        text-align: right;\n",
       "    }\n",
       "</style>\n",
       "<table border=\"1\" class=\"dataframe\">\n",
       "  <thead>\n",
       "    <tr style=\"text-align: right;\">\n",
       "      <th></th>\n",
       "      <th>IN_BYTES</th>\n",
       "      <th>IN_PKTS</th>\n",
       "      <th>L4_DST_PORT</th>\n",
       "      <th>L4_SRC_PORT</th>\n",
       "      <th>PROTOCOL</th>\n",
       "      <th>TCP_FLAGS</th>\n",
       "      <th>DURATION</th>\n",
       "      <th>INPUT_SNMP</th>\n",
       "      <th>OUTPUT_SNMP</th>\n",
       "      <th>category</th>\n",
       "      <th>inter_arrival_time</th>\n",
       "    </tr>\n",
       "  </thead>\n",
       "  <tbody>\n",
       "    <tr>\n",
       "      <th>0</th>\n",
       "      <td>24.0</td>\n",
       "      <td>0.4</td>\n",
       "      <td>5222.0</td>\n",
       "      <td>3696.0</td>\n",
       "      <td>6.0</td>\n",
       "      <td>2.0</td>\n",
       "      <td>4195.0</td>\n",
       "      <td>6.0</td>\n",
       "      <td>1.0</td>\n",
       "      <td>IoT</td>\n",
       "      <td>1.579048e+09</td>\n",
       "    </tr>\n",
       "    <tr>\n",
       "      <th>1</th>\n",
       "      <td>7.6</td>\n",
       "      <td>0.1</td>\n",
       "      <td>123.0</td>\n",
       "      <td>4039.0</td>\n",
       "      <td>17.0</td>\n",
       "      <td>0.0</td>\n",
       "      <td>4216.0</td>\n",
       "      <td>6.0</td>\n",
       "      <td>1.0</td>\n",
       "      <td>IoT</td>\n",
       "      <td>2.100000e+01</td>\n",
       "    </tr>\n",
       "    <tr>\n",
       "      <th>2</th>\n",
       "      <td>12.0</td>\n",
       "      <td>0.2</td>\n",
       "      <td>5222.0</td>\n",
       "      <td>3661.0</td>\n",
       "      <td>6.0</td>\n",
       "      <td>2.0</td>\n",
       "      <td>4213.0</td>\n",
       "      <td>6.0</td>\n",
       "      <td>1.0</td>\n",
       "      <td>IoT</td>\n",
       "      <td>1.000000e+01</td>\n",
       "    </tr>\n",
       "    <tr>\n",
       "      <th>3</th>\n",
       "      <td>7.6</td>\n",
       "      <td>0.1</td>\n",
       "      <td>123.0</td>\n",
       "      <td>4040.0</td>\n",
       "      <td>17.0</td>\n",
       "      <td>0.0</td>\n",
       "      <td>4217.0</td>\n",
       "      <td>6.0</td>\n",
       "      <td>1.0</td>\n",
       "      <td>IoT</td>\n",
       "      <td>2.000000e+01</td>\n",
       "    </tr>\n",
       "    <tr>\n",
       "      <th>4</th>\n",
       "      <td>6.0</td>\n",
       "      <td>0.1</td>\n",
       "      <td>5222.0</td>\n",
       "      <td>3661.0</td>\n",
       "      <td>6.0</td>\n",
       "      <td>2.0</td>\n",
       "      <td>4216.0</td>\n",
       "      <td>6.0</td>\n",
       "      <td>1.0</td>\n",
       "      <td>IoT</td>\n",
       "      <td>1.000000e+00</td>\n",
       "    </tr>\n",
       "    <tr>\n",
       "      <th>...</th>\n",
       "      <td>...</td>\n",
       "      <td>...</td>\n",
       "      <td>...</td>\n",
       "      <td>...</td>\n",
       "      <td>...</td>\n",
       "      <td>...</td>\n",
       "      <td>...</td>\n",
       "      <td>...</td>\n",
       "      <td>...</td>\n",
       "      <td>...</td>\n",
       "      <td>...</td>\n",
       "    </tr>\n",
       "    <tr>\n",
       "      <th>782639</th>\n",
       "      <td>171.6</td>\n",
       "      <td>0.6</td>\n",
       "      <td>8800.0</td>\n",
       "      <td>47219.0</td>\n",
       "      <td>17.0</td>\n",
       "      <td>0.0</td>\n",
       "      <td>4234.0</td>\n",
       "      <td>6.0</td>\n",
       "      <td>1.0</td>\n",
       "      <td>IoT</td>\n",
       "      <td>9.000000e+00</td>\n",
       "    </tr>\n",
       "    <tr>\n",
       "      <th>782640</th>\n",
       "      <td>24.0</td>\n",
       "      <td>0.4</td>\n",
       "      <td>12367.0</td>\n",
       "      <td>35031.0</td>\n",
       "      <td>6.0</td>\n",
       "      <td>2.0</td>\n",
       "      <td>4230.0</td>\n",
       "      <td>6.0</td>\n",
       "      <td>1.0</td>\n",
       "      <td>IoT</td>\n",
       "      <td>1.100000e+01</td>\n",
       "    </tr>\n",
       "    <tr>\n",
       "      <th>782641</th>\n",
       "      <td>172.2</td>\n",
       "      <td>0.6</td>\n",
       "      <td>8800.0</td>\n",
       "      <td>55222.0</td>\n",
       "      <td>17.0</td>\n",
       "      <td>0.0</td>\n",
       "      <td>4235.0</td>\n",
       "      <td>6.0</td>\n",
       "      <td>1.0</td>\n",
       "      <td>IoT</td>\n",
       "      <td>1.000000e+00</td>\n",
       "    </tr>\n",
       "    <tr>\n",
       "      <th>782642</th>\n",
       "      <td>123.9</td>\n",
       "      <td>2.1</td>\n",
       "      <td>8800.0</td>\n",
       "      <td>19272.0</td>\n",
       "      <td>17.0</td>\n",
       "      <td>0.0</td>\n",
       "      <td>4191.0</td>\n",
       "      <td>6.0</td>\n",
       "      <td>1.0</td>\n",
       "      <td>IoT</td>\n",
       "      <td>8.000000e+00</td>\n",
       "    </tr>\n",
       "    <tr>\n",
       "      <th>782643</th>\n",
       "      <td>171.0</td>\n",
       "      <td>0.6</td>\n",
       "      <td>8800.0</td>\n",
       "      <td>50281.0</td>\n",
       "      <td>17.0</td>\n",
       "      <td>0.0</td>\n",
       "      <td>4234.0</td>\n",
       "      <td>6.0</td>\n",
       "      <td>1.0</td>\n",
       "      <td>IoT</td>\n",
       "      <td>4.000000e+00</td>\n",
       "    </tr>\n",
       "  </tbody>\n",
       "</table>\n",
       "<p>782644 rows × 11 columns</p>\n",
       "</div>"
      ],
      "text/plain": [
       "        IN_BYTES  IN_PKTS  L4_DST_PORT  L4_SRC_PORT  PROTOCOL  TCP_FLAGS  \\\n",
       "0           24.0      0.4       5222.0       3696.0       6.0        2.0   \n",
       "1            7.6      0.1        123.0       4039.0      17.0        0.0   \n",
       "2           12.0      0.2       5222.0       3661.0       6.0        2.0   \n",
       "3            7.6      0.1        123.0       4040.0      17.0        0.0   \n",
       "4            6.0      0.1       5222.0       3661.0       6.0        2.0   \n",
       "...          ...      ...          ...          ...       ...        ...   \n",
       "782639     171.6      0.6       8800.0      47219.0      17.0        0.0   \n",
       "782640      24.0      0.4      12367.0      35031.0       6.0        2.0   \n",
       "782641     172.2      0.6       8800.0      55222.0      17.0        0.0   \n",
       "782642     123.9      2.1       8800.0      19272.0      17.0        0.0   \n",
       "782643     171.0      0.6       8800.0      50281.0      17.0        0.0   \n",
       "\n",
       "        DURATION  INPUT_SNMP  OUTPUT_SNMP category  inter_arrival_time  \n",
       "0         4195.0         6.0          1.0      IoT        1.579048e+09  \n",
       "1         4216.0         6.0          1.0      IoT        2.100000e+01  \n",
       "2         4213.0         6.0          1.0      IoT        1.000000e+01  \n",
       "3         4217.0         6.0          1.0      IoT        2.000000e+01  \n",
       "4         4216.0         6.0          1.0      IoT        1.000000e+00  \n",
       "...          ...         ...          ...      ...                 ...  \n",
       "782639    4234.0         6.0          1.0      IoT        9.000000e+00  \n",
       "782640    4230.0         6.0          1.0      IoT        1.100000e+01  \n",
       "782641    4235.0         6.0          1.0      IoT        1.000000e+00  \n",
       "782642    4191.0         6.0          1.0      IoT        8.000000e+00  \n",
       "782643    4234.0         6.0          1.0      IoT        4.000000e+00  \n",
       "\n",
       "[782644 rows x 11 columns]"
      ]
     },
     "execution_count": 183,
     "metadata": {},
     "output_type": "execute_result"
    }
   ],
   "source": [
    "column_types = {'category': 'str'}\n",
    "df_access = pd.read_csv('access_point.csv', dtype=column_types)\n",
    "df_doorbell = pd.read_csv('doorbell.csv', dtype=column_types)\n",
    "df_laptop_7400 = pd.read_csv('laptop_7400.csv', dtype=column_types)\n",
    "df_laptop_e64 = pd.read_csv('laptop_e64.csv', dtype=column_types)\n",
    "df_lightbulb = pd.read_csv('lightbulb.csv', dtype=column_types)\n",
    "df_samsung_web = pd.read_csv('samsung_web.csv', dtype=column_types)\n",
    "df_smartphone_4 = pd.read_csv('smartphone_4.csv', dtype=column_types)\n",
    "df_smartphone_5 = pd.read_csv('smartphone_5.csv', dtype=column_types)\n",
    "df_socket = pd.read_csv('socket.csv', dtype=column_types)\n",
    "df_speaker = pd.read_csv('speaker.csv', dtype=column_types)\n",
    "df_streamer = pd.read_csv('streamer.csv', dtype=column_types)\n",
    "df_webcam = pd.read_csv('webcam.csv', dtype=column_types)\n",
    "\n",
    "df_2 = pd.concat([df_samsung_web, df_access, df_doorbell, df_laptop_7400, df_laptop_e64, df_lightbulb, df_smartphone_4, df_smartphone_5, df_socket, df_speaker, df_streamer, df_webcam], ignore_index=True)\n",
    "\n",
    "nocolumns = ['IPV4_SRC_ADDR', 'MAC', 'IPV4_DST_ADDR', 'IP', 'partition', 'device_model', 'type', 'date', 'LAST_SWITCHED', 'FIRST_SWITCHED', 'SRC_TOS', 'SRC_AS', 'DST_AS']\n",
    "\n",
    "df_2 = df_2.drop(nocolumns, axis=1)\n",
    "#df_2 = df_2.sample(frac =.001)\n",
    "df_2['IN_BYTES'] = df_2['IN_BYTES'] * 0.1\n",
    "df_2['IN_PKTS'] = df_2['IN_PKTS'] * 0.1\n",
    "\n",
    "df_2"
   ]
  },
  {
   "cell_type": "code",
   "execution_count": 184,
   "metadata": {},
   "outputs": [
    {
     "data": {
      "text/plain": [
       "IN_BYTES              0\n",
       "IN_PKTS               0\n",
       "L4_DST_PORT           0\n",
       "L4_SRC_PORT           0\n",
       "PROTOCOL              0\n",
       "TCP_FLAGS             0\n",
       "DURATION              0\n",
       "INPUT_SNMP            0\n",
       "OUTPUT_SNMP           0\n",
       "category              0\n",
       "inter_arrival_time    0\n",
       "dtype: int64"
      ]
     },
     "execution_count": 184,
     "metadata": {},
     "output_type": "execute_result"
    }
   ],
   "source": [
    "df_2.isnull().sum()"
   ]
  },
  {
   "cell_type": "code",
   "execution_count": 185,
   "metadata": {},
   "outputs": [
    {
     "data": {
      "text/plain": [
       "category\n",
       "IoT        698851\n",
       "Non-IoT     83793\n",
       "Name: count, dtype: int64"
      ]
     },
     "execution_count": 185,
     "metadata": {},
     "output_type": "execute_result"
    }
   ],
   "source": [
    "df_2['category'].value_counts()"
   ]
  },
  {
   "cell_type": "code",
   "execution_count": 186,
   "metadata": {},
   "outputs": [
    {
     "data": {
      "text/plain": [
       "(782644, 11)"
      ]
     },
     "execution_count": 186,
     "metadata": {},
     "output_type": "execute_result"
    }
   ],
   "source": [
    "df_2.shape"
   ]
  },
  {
   "cell_type": "code",
   "execution_count": 187,
   "metadata": {},
   "outputs": [
    {
     "data": {
      "text/plain": [
       "0         IoT\n",
       "1         IoT\n",
       "2         IoT\n",
       "3         IoT\n",
       "4         IoT\n",
       "         ... \n",
       "782639    IoT\n",
       "782640    IoT\n",
       "782641    IoT\n",
       "782642    IoT\n",
       "782643    IoT\n",
       "Name: category, Length: 782644, dtype: object"
      ]
     },
     "execution_count": 187,
     "metadata": {},
     "output_type": "execute_result"
    }
   ],
   "source": [
    "X2 = df_2.drop(columns='category', axis=1)\n",
    "Y2 = df_2['category']\n",
    "Y2"
   ]
  },
  {
   "cell_type": "code",
   "execution_count": 188,
   "metadata": {},
   "outputs": [
    {
     "data": {
      "text/plain": [
       "0.9931054221331793"
      ]
     },
     "execution_count": 188,
     "metadata": {},
     "output_type": "execute_result"
    }
   ],
   "source": [
    "X2_train, X2_test, y2_train, y2_test = train_test_split(X2, Y2, random_state=0)\n",
    "extra_tree = ExtraTreeClassifier(random_state=0)\n",
    "cls2 = BaggingClassifier(extra_tree, random_state=0).fit(X2_train, y2_train)\n",
    "predictions2 = cls2.predict(X2_test)\n",
    "cls2.score(X2_test, y2_test)"
   ]
  },
  {
   "cell_type": "code",
   "execution_count": 189,
   "metadata": {},
   "outputs": [
    {
     "data": {
      "image/png": "[encoded data removed]",
      "text/plain": [
       "<Figure size 640x480 with 2 Axes>"
      ]
     },
     "metadata": {},
     "output_type": "display_data"
    }
   ],
   "source": [
    "conf_matrix_display = ConfusionMatrixDisplay.from_estimator(cls2, X2_test, y2_test, display_labels=cls2.classes_, xticks_rotation=\"vertical\",values_format='d')\n",
    "plt.show()"
   ]
  },
  {
   "cell_type": "code",
   "execution_count": 190,
   "metadata": {},
   "outputs": [
    {
     "name": "stdout",
     "output_type": "stream",
     "text": [
      "Accuracy: 0.993105\n",
      "Precision: 0.982569\n",
      "Recall: 0.981118\n",
      "F1 score: 0.981842\n"
     ]
    }
   ],
   "source": [
    "# accuracy: (tp + tn) / (p + n)\n",
    "accuracy = accuracy_score(y2_test, predictions2)\n",
    "print('Accuracy: %f' % accuracy)\n",
    "# precision tp / (tp + fp)\n",
    "\"\"\"\n",
    "precision_score(y_test, y_pred, average='micro') will return the total ratio of tp/(tp + fp)\n",
    "\"\"\"\n",
    "precision = precision_score(y2_test, predictions2, average='macro')\n",
    "print('Precision: %f' % precision)\n",
    "# recall: tp / (tp + fn)\n",
    "recall = recall_score(y2_test, predictions2, average='macro')\n",
    "print('Recall: %f' % recall)\n",
    "# f1: 2 tp / (2 tp + fp + fn)\n",
    "f1 = f1_score(y2_test, predictions2, average='macro')\n",
    "print('F1 score: %f' % f1)"
   ]
  },
  {
   "cell_type": "code",
   "execution_count": 191,
   "metadata": {},
   "outputs": [
    {
     "data": {
      "text/html": [
       "<div>\n",
       "<style scoped>\n",
       "    .dataframe tbody tr th:only-of-type {\n",
       "        vertical-align: middle;\n",
       "    }\n",
       "\n",
       "    .dataframe tbody tr th {\n",
       "        vertical-align: top;\n",
       "    }\n",
       "\n",
       "    .dataframe thead th {\n",
       "        text-align: right;\n",
       "    }\n",
       "</style>\n",
       "<table border=\"1\" class=\"dataframe\">\n",
       "  <thead>\n",
       "    <tr style=\"text-align: right;\">\n",
       "      <th></th>\n",
       "      <th>IN_BYTES</th>\n",
       "      <th>IN_PKTS</th>\n",
       "      <th>L4_DST_PORT</th>\n",
       "      <th>L4_SRC_PORT</th>\n",
       "      <th>PROTOCOL</th>\n",
       "      <th>TCP_FLAGS</th>\n",
       "      <th>DURATION</th>\n",
       "      <th>INPUT_SNMP</th>\n",
       "      <th>OUTPUT_SNMP</th>\n",
       "      <th>inter_arrival_time</th>\n",
       "    </tr>\n",
       "  </thead>\n",
       "  <tbody>\n",
       "    <tr>\n",
       "      <th>IN_BYTES</th>\n",
       "      <td>1.000000</td>\n",
       "      <td>0.514711</td>\n",
       "      <td>-0.017001</td>\n",
       "      <td>0.047926</td>\n",
       "      <td>0.015677</td>\n",
       "      <td>0.030310</td>\n",
       "      <td>-0.055170</td>\n",
       "      <td>NaN</td>\n",
       "      <td>NaN</td>\n",
       "      <td>-0.000255</td>\n",
       "    </tr>\n",
       "    <tr>\n",
       "      <th>IN_PKTS</th>\n",
       "      <td>0.514711</td>\n",
       "      <td>1.000000</td>\n",
       "      <td>-0.004672</td>\n",
       "      <td>0.014426</td>\n",
       "      <td>-0.009154</td>\n",
       "      <td>0.033361</td>\n",
       "      <td>-0.055754</td>\n",
       "      <td>NaN</td>\n",
       "      <td>NaN</td>\n",
       "      <td>-0.000158</td>\n",
       "    </tr>\n",
       "    <tr>\n",
       "      <th>L4_DST_PORT</th>\n",
       "      <td>-0.017001</td>\n",
       "      <td>-0.004672</td>\n",
       "      <td>1.000000</td>\n",
       "      <td>0.377690</td>\n",
       "      <td>-0.259756</td>\n",
       "      <td>-0.183824</td>\n",
       "      <td>-0.109048</td>\n",
       "      <td>NaN</td>\n",
       "      <td>NaN</td>\n",
       "      <td>-0.000362</td>\n",
       "    </tr>\n",
       "    <tr>\n",
       "      <th>L4_SRC_PORT</th>\n",
       "      <td>0.047926</td>\n",
       "      <td>0.014426</td>\n",
       "      <td>0.377690</td>\n",
       "      <td>1.000000</td>\n",
       "      <td>-0.167568</td>\n",
       "      <td>0.030408</td>\n",
       "      <td>-0.252296</td>\n",
       "      <td>NaN</td>\n",
       "      <td>NaN</td>\n",
       "      <td>0.000923</td>\n",
       "    </tr>\n",
       "    <tr>\n",
       "      <th>PROTOCOL</th>\n",
       "      <td>0.015677</td>\n",
       "      <td>-0.009154</td>\n",
       "      <td>-0.259756</td>\n",
       "      <td>-0.167568</td>\n",
       "      <td>1.000000</td>\n",
       "      <td>-0.577798</td>\n",
       "      <td>-0.035386</td>\n",
       "      <td>NaN</td>\n",
       "      <td>NaN</td>\n",
       "      <td>-0.000588</td>\n",
       "    </tr>\n",
       "    <tr>\n",
       "      <th>TCP_FLAGS</th>\n",
       "      <td>0.030310</td>\n",
       "      <td>0.033361</td>\n",
       "      <td>-0.183824</td>\n",
       "      <td>0.030408</td>\n",
       "      <td>-0.577798</td>\n",
       "      <td>1.000000</td>\n",
       "      <td>0.291349</td>\n",
       "      <td>NaN</td>\n",
       "      <td>NaN</td>\n",
       "      <td>0.001194</td>\n",
       "    </tr>\n",
       "    <tr>\n",
       "      <th>DURATION</th>\n",
       "      <td>-0.055170</td>\n",
       "      <td>-0.055754</td>\n",
       "      <td>-0.109048</td>\n",
       "      <td>-0.252296</td>\n",
       "      <td>-0.035386</td>\n",
       "      <td>0.291349</td>\n",
       "      <td>1.000000</td>\n",
       "      <td>NaN</td>\n",
       "      <td>NaN</td>\n",
       "      <td>-0.001611</td>\n",
       "    </tr>\n",
       "    <tr>\n",
       "      <th>INPUT_SNMP</th>\n",
       "      <td>NaN</td>\n",
       "      <td>NaN</td>\n",
       "      <td>NaN</td>\n",
       "      <td>NaN</td>\n",
       "      <td>NaN</td>\n",
       "      <td>NaN</td>\n",
       "      <td>NaN</td>\n",
       "      <td>NaN</td>\n",
       "      <td>NaN</td>\n",
       "      <td>NaN</td>\n",
       "    </tr>\n",
       "    <tr>\n",
       "      <th>OUTPUT_SNMP</th>\n",
       "      <td>NaN</td>\n",
       "      <td>NaN</td>\n",
       "      <td>NaN</td>\n",
       "      <td>NaN</td>\n",
       "      <td>NaN</td>\n",
       "      <td>NaN</td>\n",
       "      <td>NaN</td>\n",
       "      <td>NaN</td>\n",
       "      <td>NaN</td>\n",
       "      <td>NaN</td>\n",
       "    </tr>\n",
       "    <tr>\n",
       "      <th>inter_arrival_time</th>\n",
       "      <td>-0.000255</td>\n",
       "      <td>-0.000158</td>\n",
       "      <td>-0.000362</td>\n",
       "      <td>0.000923</td>\n",
       "      <td>-0.000588</td>\n",
       "      <td>0.001194</td>\n",
       "      <td>-0.001611</td>\n",
       "      <td>NaN</td>\n",
       "      <td>NaN</td>\n",
       "      <td>1.000000</td>\n",
       "    </tr>\n",
       "  </tbody>\n",
       "</table>\n",
       "</div>"
      ],
      "text/plain": [
       "                    IN_BYTES   IN_PKTS  L4_DST_PORT  L4_SRC_PORT  PROTOCOL  \\\n",
       "IN_BYTES            1.000000  0.514711    -0.017001     0.047926  0.015677   \n",
       "IN_PKTS             0.514711  1.000000    -0.004672     0.014426 -0.009154   \n",
       "L4_DST_PORT        -0.017001 -0.004672     1.000000     0.377690 -0.259756   \n",
       "L4_SRC_PORT         0.047926  0.014426     0.377690     1.000000 -0.167568   \n",
       "PROTOCOL            0.015677 -0.009154    -0.259756    -0.167568  1.000000   \n",
       "TCP_FLAGS           0.030310  0.033361    -0.183824     0.030408 -0.577798   \n",
       "DURATION           -0.055170 -0.055754    -0.109048    -0.252296 -0.035386   \n",
       "INPUT_SNMP               NaN       NaN          NaN          NaN       NaN   \n",
       "OUTPUT_SNMP              NaN       NaN          NaN          NaN       NaN   \n",
       "inter_arrival_time -0.000255 -0.000158    -0.000362     0.000923 -0.000588   \n",
       "\n",
       "                    TCP_FLAGS  DURATION  INPUT_SNMP  OUTPUT_SNMP  \\\n",
       "IN_BYTES             0.030310 -0.055170         NaN          NaN   \n",
       "IN_PKTS              0.033361 -0.055754         NaN          NaN   \n",
       "L4_DST_PORT         -0.183824 -0.109048         NaN          NaN   \n",
       "L4_SRC_PORT          0.030408 -0.252296         NaN          NaN   \n",
       "PROTOCOL            -0.577798 -0.035386         NaN          NaN   \n",
       "TCP_FLAGS            1.000000  0.291349         NaN          NaN   \n",
       "DURATION             0.291349  1.000000         NaN          NaN   \n",
       "INPUT_SNMP                NaN       NaN         NaN          NaN   \n",
       "OUTPUT_SNMP               NaN       NaN         NaN          NaN   \n",
       "inter_arrival_time   0.001194 -0.001611         NaN          NaN   \n",
       "\n",
       "                    inter_arrival_time  \n",
       "IN_BYTES                     -0.000255  \n",
       "IN_PKTS                      -0.000158  \n",
       "L4_DST_PORT                  -0.000362  \n",
       "L4_SRC_PORT                   0.000923  \n",
       "PROTOCOL                     -0.000588  \n",
       "TCP_FLAGS                     0.001194  \n",
       "DURATION                     -0.001611  \n",
       "INPUT_SNMP                         NaN  \n",
       "OUTPUT_SNMP                        NaN  \n",
       "inter_arrival_time            1.000000  "
      ]
     },
     "execution_count": 191,
     "metadata": {},
     "output_type": "execute_result"
    }
   ],
   "source": [
    "X2_train.corr()"
   ]
  },
  {
   "cell_type": "code",
   "execution_count": 192,
   "metadata": {},
   "outputs": [
    {
     "data": {
      "text/plain": [
       "<Axes: >"
      ]
     },
     "execution_count": 192,
     "metadata": {},
     "output_type": "execute_result"
    },
    {
     "data": {
      "image/png": "[encoded data removed]",
      "text/plain": [
       "<Figure size 1100x1100 with 2 Axes>"
      ]
     },
     "metadata": {},
     "output_type": "display_data"
    }
   ],
   "source": [
    "import seaborn as sns\n",
    "#Using Pearson Correlation\n",
    "corrmat2 = X2_train.corr()\n",
    "fig, ax = plt.subplots()\n",
    "fig.set_size_inches(11,11)\n",
    "sns.heatmap(corrmat2)"
   ]
  },
  {
   "cell_type": "code",
   "execution_count": 193,
   "metadata": {},
   "outputs": [
    {
     "data": {
      "text/plain": [
       "set()"
      ]
     },
     "execution_count": 193,
     "metadata": {},
     "output_type": "execute_result"
    }
   ],
   "source": [
    "corr_features2 = correlation(X2_train, 0.80)\n",
    "len(set(corr_features2))\n",
    "corr_features2"
   ]
  },
  {
   "cell_type": "markdown",
   "metadata": {},
   "source": [
    "## Random Forest"
   ]
  },
  {
   "cell_type": "code",
   "execution_count": 194,
   "metadata": {},
   "outputs": [
    {
     "data": {
      "text/plain": [
       "0.994802234476978"
      ]
     },
     "execution_count": 194,
     "metadata": {},
     "output_type": "execute_result"
    }
   ],
   "source": [
    "from sklearn.ensemble import RandomForestClassifier\n",
    "\n",
    "rfc2 = RandomForestClassifier(random_state=0)\n",
    "rfc2.fit(X2_train, y2_train)\n",
    "predictions_rfc2 = rfc2.predict(X2_test)\n",
    "rfc2.score(X2_test, y2_test)"
   ]
  },
  {
   "cell_type": "code",
   "execution_count": 195,
   "metadata": {},
   "outputs": [
    {
     "name": "stdout",
     "output_type": "stream",
     "text": [
      "L4_DST_PORT  0.248 +/- 0.001\n",
      "IN_PKTS   0.108 +/- 0.000\n",
      "TCP_FLAGS  0.105 +/- 0.000\n",
      "IN_BYTES  0.102 +/- 0.000\n",
      "L4_SRC_PORT  0.072 +/- 0.000\n",
      "category  0.016 +/- 0.000\n",
      "DURATION  0.003 +/- 0.000\n",
      "PROTOCOL  0.000 +/- 0.000\n"
     ]
    }
   ],
   "source": [
    "from sklearn.inspection import permutation_importance\n",
    "\n",
    "r = permutation_importance(rfc2, X2_test, y2_test,n_repeats=30,random_state=0)\n",
    "for i in r.importances_mean.argsort()[::-1]:\n",
    "    if r.importances_mean[i] - 2 * r.importances_std[i] > 0:\n",
    "        print(f\"{df_2.columns[i]:<8} \"\n",
    "              f\" {r.importances_mean[i]:.3f}\"\n",
    "              f\" +/- {r.importances_std[i]:.3f}\")"
   ]
  },
  {
   "cell_type": "code",
   "execution_count": 196,
   "metadata": {},
   "outputs": [
    {
     "data": {
      "image/png": "[encoded data removed]",
      "text/plain": [
       "<Figure size 640x480 with 2 Axes>"
      ]
     },
     "metadata": {},
     "output_type": "display_data"
    }
   ],
   "source": [
    "conf_matrix_display = ConfusionMatrixDisplay.from_estimator(rfc2, X2_test, y2_test, display_labels=rfc2.classes_, xticks_rotation=\"vertical\",values_format='d')\n",
    "plt.show()"
   ]
  },
  {
   "cell_type": "code",
   "execution_count": 197,
   "metadata": {},
   "outputs": [
    {
     "name": "stdout",
     "output_type": "stream",
     "text": [
      "Accuracy: 0.994802\n",
      "Precision: 0.985248\n",
      "Recall: 0.987485\n",
      "F1 score: 0.986363\n"
     ]
    }
   ],
   "source": [
    "# accuracy: (tp + tn) / (p + n)\n",
    "accuracy = accuracy_score(y2_test, predictions_rfc2)\n",
    "print('Accuracy: %f' % accuracy)\n",
    "# precision tp / (tp + fp)\n",
    "\n",
    "precision = precision_score(y2_test, predictions_rfc2, average='macro')\n",
    "print('Precision: %f' % precision)\n",
    "# recall: tp / (tp + fn)\n",
    "recall = recall_score(y2_test, predictions_rfc2, average='macro')\n",
    "print('Recall: %f' % recall)\n",
    "# f1: 2 tp / (2 tp + fp + fn)\n",
    "f1 = f1_score(y2_test, predictions_rfc2, average='macro')\n",
    "print('F1 score: %f' % f1)"
   ]
  }
 ],
 "metadata": {
  "kernelspec": {
   "display_name": "Python 3 (ipykernel)",
   "language": "python",
   "name": "python3"
  },
  "language_info": {
   "codemirror_mode": {
    "name": "ipython",
    "version": 3
   },
   "file_extension": ".py",
   "mimetype": "text/x-python",
   "name": "python",
   "nbconvert_exporter": "python",
   "pygments_lexer": "ipython3",
   "version": "3.11.5"
  }
 },
 "nbformat": 4,
 "nbformat_minor": 4
}
