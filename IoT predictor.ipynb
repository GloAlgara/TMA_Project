{
 "cells": [
  {
   "cell_type": "code",
   "execution_count": 8,
   "id": "7a70bbf6",
   "metadata": {},
   "outputs": [],
   "source": [
    "from sklearn.datasets import load_iris\n",
    "from sklearn.model_selection import train_test_split\n",
    "from sklearn.ensemble import BaggingClassifier\n",
    "from sklearn.tree import ExtraTreeClassifier\n",
    "import pandas as pd"
   ]
  },
  {
   "cell_type": "code",
   "execution_count": 9,
   "id": "929cc67b",
   "metadata": {},
   "outputs": [],
   "source": [
    "df_train = pd.read_csv('Data/iot_device_train.csv')\n",
    "df_test = pd.read_csv('Data/iot_device_test.csv')\n",
    "#print(df_test.head())\n",
    "\n",
    "\n",
    "frames = [df_train, df_test]\n",
    "df = pd.concat(frames)\n",
    "#print(result.head())"
   ]
  },
  {
   "cell_type": "code",
   "execution_count": 10,
   "id": "9146d99e",
   "metadata": {},
   "outputs": [
    {
     "data": {
      "text/plain": [
       "ack                         0\n",
       "ack_A                       0\n",
       "ack_B                       0\n",
       "bytes                       0\n",
       "bytes_A                     0\n",
       "                           ..\n",
       "suffix_is_googleapis.com    0\n",
       "suffix_is_net               0\n",
       "suffix_is_org               0\n",
       "suffix_is_unresolved        0\n",
       "device_category             0\n",
       "Length: 298, dtype: int64"
      ]
     },
     "execution_count": 10,
     "metadata": {},
     "output_type": "execute_result"
    }
   ],
   "source": [
    "df.isnull().sum()"
   ]
  },
  {
   "cell_type": "code",
   "execution_count": 11,
   "id": "70da4a7a",
   "metadata": {},
   "outputs": [
    {
     "data": {
      "text/plain": [
       "device_category\n",
       "security_camera    200\n",
       "TV                 200\n",
       "smoke_detector     200\n",
       "thermostat         200\n",
       "watch              200\n",
       "baby_monitor       200\n",
       "motion_sensor      200\n",
       "lights             200\n",
       "socket             200\n",
       "water_sensor       100\n",
       "Name: count, dtype: int64"
      ]
     },
     "execution_count": 11,
     "metadata": {},
     "output_type": "execute_result"
    }
   ],
   "source": [
    "df['device_category'].value_counts()"
   ]
  },
  {
   "cell_type": "code",
   "execution_count": 12,
   "id": "04693615",
   "metadata": {},
   "outputs": [
    {
     "data": {
      "text/plain": [
       "(1900, 298)"
      ]
     },
     "execution_count": 12,
     "metadata": {},
     "output_type": "execute_result"
    }
   ],
   "source": [
    "df.shape"
   ]
  },
  {
   "cell_type": "code",
   "execution_count": 13,
   "id": "b3a8c82d",
   "metadata": {},
   "outputs": [],
   "source": [
    "X = df.drop(columns='device_category', axis=1)\n",
    "Y = df['device_category']"
   ]
  },
  {
   "cell_type": "code",
   "execution_count": 14,
   "id": "87b7dab9",
   "metadata": {},
   "outputs": [
    {
     "data": {
      "text/plain": [
       "0.8463157894736842"
      ]
     },
     "execution_count": 14,
     "metadata": {},
     "output_type": "execute_result"
    }
   ],
   "source": [
    "X_train, X_test, y_train, y_test = train_test_split(X, Y, random_state=0)\n",
    "extra_tree = ExtraTreeClassifier(random_state=0)\n",
    "cls = BaggingClassifier(extra_tree, random_state=0).fit(X_train, y_train)\n",
    "cls.score(X_test, y_test)"
   ]
  },
  {
   "cell_type": "code",
   "execution_count": null,
   "id": "acc96149",
   "metadata": {},
   "outputs": [],
   "source": []
  }
 ],
 "metadata": {
  "kernelspec": {
   "display_name": "Python 3 (ipykernel)",
   "language": "python",
   "name": "python3"
  },
  "language_info": {
   "codemirror_mode": {
    "name": "ipython",
    "version": 3
   },
   "file_extension": ".py",
   "mimetype": "text/x-python",
   "name": "python",
   "nbconvert_exporter": "python",
   "pygments_lexer": "ipython3",
   "version": "3.11.5"
  }
 },
 "nbformat": 4,
 "nbformat_minor": 5
}
